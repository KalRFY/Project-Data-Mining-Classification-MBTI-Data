{
  "cells": [
    {
      "cell_type": "code",
      "execution_count": null,
      "metadata": {
        "id": "ABtFlfbv6dAh"
      },
      "outputs": [],
      "source": [
        "#Import necessary packages\n",
        "import numpy as np\n",
        "import pandas as pd"
      ]
    },
    {
      "cell_type": "code",
      "execution_count": null,
      "metadata": {
        "id": "V67BVhilgZ1u",
        "colab": {
          "base_uri": "https://localhost:8080/"
        },
        "outputId": "caf19e5d-e01a-4ec6-b10b-deaa390e6200"
      },
      "outputs": [
        {
          "output_type": "stream",
          "name": "stdout",
          "text": [
            "Drive already mounted at /content/drive; to attempt to forcibly remount, call drive.mount(\"/content/drive\", force_remount=True).\n"
          ]
        }
      ],
      "source": [
        "from google.colab import drive\n",
        "drive.mount('/content/drive')"
      ]
    },
    {
      "cell_type": "markdown",
      "source": [
        "# **Data Processing**"
      ],
      "metadata": {
        "id": "qESVSYchlo-a"
      }
    },
    {
      "cell_type": "code",
      "execution_count": null,
      "metadata": {
        "id": "BqZtYioc7vg-"
      },
      "outputs": [],
      "source": [
        "data2 = '/content/drive/MyDrive/Python Classification/data2.csv'\n",
        "data2_demography = '/content/drive/MyDrive/Python Classification/data2-demography.csv'"
      ]
    },
    {
      "cell_type": "code",
      "execution_count": null,
      "metadata": {
        "id": "Qb9dLHR-8gAJ",
        "colab": {
          "base_uri": "https://localhost:8080/"
        },
        "outputId": "8203963c-2412-4fdb-e537-c30b2334cb6f"
      },
      "outputs": [
        {
          "output_type": "stream",
          "name": "stdout",
          "text": [
            "MBTI Dataset:\n",
            "   participant_id  Introversion Score  Sensing Score  Thinking Score  \\\n",
            "0               1             9.47080       7.141434         6.03696   \n",
            "1               2             5.85392       6.160195         0.80552   \n",
            "2               3             7.08615       3.388433         2.66188   \n",
            "3               4             2.01892       4.823624         7.30625   \n",
            "4               5             9.91703       4.755080         5.31469   \n",
            "\n",
            "   Judging Score  \n",
            "0       4.360278  \n",
            "1       4.221421  \n",
            "2       5.127320  \n",
            "3       5.986550  \n",
            "4       4.677213  \n",
            "\\Demography Dataset:\n",
            "   participant_id  Age  Gender  Education    Interest Salary Scale\n",
            "0               1   19    Male          0     Unknown        Low_2\n",
            "1               2   27  Female          0      Sports     Medium_6\n",
            "2               3   21  Female          0     Unknown        Low_2\n",
            "3               4   28    Male          0      Others        Low_3\n",
            "4               5   36  Female          1  Technology        Low_2\n"
          ]
        }
      ],
      "source": [
        "# Membaca dataset\n",
        "data2 = pd.read_csv(data2)\n",
        "data2_demography = pd.read_csv(data2_demography)\n",
        "\n",
        "# Menampilkan beberapa baris awal dari masing-masing dataset\n",
        "print(\"MBTI Dataset:\")\n",
        "print(data2.head())\n",
        "\n",
        "print(\"\\Demography Dataset:\")\n",
        "print(data2_demography.head())"
      ]
    },
    {
      "cell_type": "code",
      "execution_count": null,
      "metadata": {
        "id": "gF3ru9sE8Mnp"
      },
      "outputs": [],
      "source": [
        "# Merge kedua dataset berdasarkan participant_id\n",
        "merged_data = pd.merge(data2, data2_demography, on=\"participant_id\")\n",
        "# merged_data = pd.read_csv('/content/drive/MyDrive/Python Classification/data (2).csv')"
      ]
    },
    {
      "cell_type": "code",
      "execution_count": null,
      "metadata": {
        "id": "nxAJmUua8f0h",
        "colab": {
          "base_uri": "https://localhost:8080/",
          "height": 183
        },
        "outputId": "28b64011-a839-4219-98b6-87b83413c2b7"
      },
      "outputs": [
        {
          "output_type": "error",
          "ename": "NameError",
          "evalue": "name 'merged_data' is not defined",
          "traceback": [
            "\u001b[0;31m---------------------------------------------------------------------------\u001b[0m",
            "\u001b[0;31mNameError\u001b[0m                                 Traceback (most recent call last)",
            "\u001b[0;32m<ipython-input-1-0454a45be420>\u001b[0m in \u001b[0;36m<cell line: 0>\u001b[0;34m()\u001b[0m\n\u001b[0;32m----> 1\u001b[0;31m \u001b[0mpersonality_counts\u001b[0m \u001b[0;34m=\u001b[0m \u001b[0mmerged_data\u001b[0m\u001b[0;34m[\u001b[0m\u001b[0;34m'Salary Scale'\u001b[0m\u001b[0;34m]\u001b[0m\u001b[0;34m.\u001b[0m\u001b[0mvalue_counts\u001b[0m\u001b[0;34m(\u001b[0m\u001b[0;34m)\u001b[0m\u001b[0;34m\u001b[0m\u001b[0;34m\u001b[0m\u001b[0m\n\u001b[0m\u001b[1;32m      2\u001b[0m \u001b[0mmin_count\u001b[0m \u001b[0;34m=\u001b[0m \u001b[0mpersonality_counts\u001b[0m\u001b[0;34m.\u001b[0m\u001b[0mmin\u001b[0m\u001b[0;34m(\u001b[0m\u001b[0;34m)\u001b[0m\u001b[0;34m\u001b[0m\u001b[0;34m\u001b[0m\u001b[0m\n\u001b[1;32m      3\u001b[0m \u001b[0mprint\u001b[0m\u001b[0;34m(\u001b[0m\u001b[0;34mf\"Jumlah data minimum per Salary Scale: {min_count}\"\u001b[0m\u001b[0;34m)\u001b[0m\u001b[0;34m\u001b[0m\u001b[0;34m\u001b[0m\u001b[0m\n",
            "\u001b[0;31mNameError\u001b[0m: name 'merged_data' is not defined"
          ]
        }
      ],
      "source": [
        "personality_counts = merged_data['Salary Scale'].value_counts()\n",
        "min_count = personality_counts.min()\n",
        "print(f\"Jumlah data minimum per Salary Scale: {min_count}\")"
      ]
    },
    {
      "cell_type": "code",
      "execution_count": null,
      "metadata": {
        "id": "ubr_QjaS8nSv"
      },
      "outputs": [],
      "source": [
        "# merged_data = merged_data.groupby('Personality').apply(lambda x: x.sample(200)).reset_index(drop=True)\n",
        "# print(f\"Jumlah data setelah balancing: {len(merged_data)}\")\n",
        "# merged_data['Personality'].value_counts() # Untuk verifikasi"
      ]
    },
    {
      "cell_type": "code",
      "execution_count": null,
      "metadata": {
        "id": "ks9CrTa6AQ-V"
      },
      "outputs": [],
      "source": [
        "dfC = pd.DataFrame(data2)\n",
        "dfDC = pd.DataFrame(data2_demography)"
      ]
    },
    {
      "cell_type": "code",
      "execution_count": null,
      "metadata": {
        "id": "vVWC9T61BC8P",
        "colab": {
          "base_uri": "https://localhost:8080/",
          "height": 206
        },
        "outputId": "54a57654-9aae-41ee-9544-3f362a2f41e4"
      },
      "outputs": [
        {
          "output_type": "execute_result",
          "data": {
            "text/plain": [
              "   participant_id  Introversion Score  Sensing Score  Thinking Score  \\\n",
              "0               1             9.47080       7.141434         6.03696   \n",
              "1               2             5.85392       6.160195         0.80552   \n",
              "2               3             7.08615       3.388433         2.66188   \n",
              "3               4             2.01892       4.823624         7.30625   \n",
              "4               5             9.91703       4.755080         5.31469   \n",
              "\n",
              "   Judging Score  \n",
              "0       4.360278  \n",
              "1       4.221421  \n",
              "2       5.127320  \n",
              "3       5.986550  \n",
              "4       4.677213  "
            ],
            "text/html": [
              "\n",
              "  <div id=\"df-5f02e995-05ad-460b-8038-a7f907640727\" class=\"colab-df-container\">\n",
              "    <div>\n",
              "<style scoped>\n",
              "    .dataframe tbody tr th:only-of-type {\n",
              "        vertical-align: middle;\n",
              "    }\n",
              "\n",
              "    .dataframe tbody tr th {\n",
              "        vertical-align: top;\n",
              "    }\n",
              "\n",
              "    .dataframe thead th {\n",
              "        text-align: right;\n",
              "    }\n",
              "</style>\n",
              "<table border=\"1\" class=\"dataframe\">\n",
              "  <thead>\n",
              "    <tr style=\"text-align: right;\">\n",
              "      <th></th>\n",
              "      <th>participant_id</th>\n",
              "      <th>Introversion Score</th>\n",
              "      <th>Sensing Score</th>\n",
              "      <th>Thinking Score</th>\n",
              "      <th>Judging Score</th>\n",
              "    </tr>\n",
              "  </thead>\n",
              "  <tbody>\n",
              "    <tr>\n",
              "      <th>0</th>\n",
              "      <td>1</td>\n",
              "      <td>9.47080</td>\n",
              "      <td>7.141434</td>\n",
              "      <td>6.03696</td>\n",
              "      <td>4.360278</td>\n",
              "    </tr>\n",
              "    <tr>\n",
              "      <th>1</th>\n",
              "      <td>2</td>\n",
              "      <td>5.85392</td>\n",
              "      <td>6.160195</td>\n",
              "      <td>0.80552</td>\n",
              "      <td>4.221421</td>\n",
              "    </tr>\n",
              "    <tr>\n",
              "      <th>2</th>\n",
              "      <td>3</td>\n",
              "      <td>7.08615</td>\n",
              "      <td>3.388433</td>\n",
              "      <td>2.66188</td>\n",
              "      <td>5.127320</td>\n",
              "    </tr>\n",
              "    <tr>\n",
              "      <th>3</th>\n",
              "      <td>4</td>\n",
              "      <td>2.01892</td>\n",
              "      <td>4.823624</td>\n",
              "      <td>7.30625</td>\n",
              "      <td>5.986550</td>\n",
              "    </tr>\n",
              "    <tr>\n",
              "      <th>4</th>\n",
              "      <td>5</td>\n",
              "      <td>9.91703</td>\n",
              "      <td>4.755080</td>\n",
              "      <td>5.31469</td>\n",
              "      <td>4.677213</td>\n",
              "    </tr>\n",
              "  </tbody>\n",
              "</table>\n",
              "</div>\n",
              "    <div class=\"colab-df-buttons\">\n",
              "\n",
              "  <div class=\"colab-df-container\">\n",
              "    <button class=\"colab-df-convert\" onclick=\"convertToInteractive('df-5f02e995-05ad-460b-8038-a7f907640727')\"\n",
              "            title=\"Convert this dataframe to an interactive table.\"\n",
              "            style=\"display:none;\">\n",
              "\n",
              "  <svg xmlns=\"http://www.w3.org/2000/svg\" height=\"24px\" viewBox=\"0 -960 960 960\">\n",
              "    <path d=\"M120-120v-720h720v720H120Zm60-500h600v-160H180v160Zm220 220h160v-160H400v160Zm0 220h160v-160H400v160ZM180-400h160v-160H180v160Zm440 0h160v-160H620v160ZM180-180h160v-160H180v160Zm440 0h160v-160H620v160Z\"/>\n",
              "  </svg>\n",
              "    </button>\n",
              "\n",
              "  <style>\n",
              "    .colab-df-container {\n",
              "      display:flex;\n",
              "      gap: 12px;\n",
              "    }\n",
              "\n",
              "    .colab-df-convert {\n",
              "      background-color: #E8F0FE;\n",
              "      border: none;\n",
              "      border-radius: 50%;\n",
              "      cursor: pointer;\n",
              "      display: none;\n",
              "      fill: #1967D2;\n",
              "      height: 32px;\n",
              "      padding: 0 0 0 0;\n",
              "      width: 32px;\n",
              "    }\n",
              "\n",
              "    .colab-df-convert:hover {\n",
              "      background-color: #E2EBFA;\n",
              "      box-shadow: 0px 1px 2px rgba(60, 64, 67, 0.3), 0px 1px 3px 1px rgba(60, 64, 67, 0.15);\n",
              "      fill: #174EA6;\n",
              "    }\n",
              "\n",
              "    .colab-df-buttons div {\n",
              "      margin-bottom: 4px;\n",
              "    }\n",
              "\n",
              "    [theme=dark] .colab-df-convert {\n",
              "      background-color: #3B4455;\n",
              "      fill: #D2E3FC;\n",
              "    }\n",
              "\n",
              "    [theme=dark] .colab-df-convert:hover {\n",
              "      background-color: #434B5C;\n",
              "      box-shadow: 0px 1px 3px 1px rgba(0, 0, 0, 0.15);\n",
              "      filter: drop-shadow(0px 1px 2px rgba(0, 0, 0, 0.3));\n",
              "      fill: #FFFFFF;\n",
              "    }\n",
              "  </style>\n",
              "\n",
              "    <script>\n",
              "      const buttonEl =\n",
              "        document.querySelector('#df-5f02e995-05ad-460b-8038-a7f907640727 button.colab-df-convert');\n",
              "      buttonEl.style.display =\n",
              "        google.colab.kernel.accessAllowed ? 'block' : 'none';\n",
              "\n",
              "      async function convertToInteractive(key) {\n",
              "        const element = document.querySelector('#df-5f02e995-05ad-460b-8038-a7f907640727');\n",
              "        const dataTable =\n",
              "          await google.colab.kernel.invokeFunction('convertToInteractive',\n",
              "                                                    [key], {});\n",
              "        if (!dataTable) return;\n",
              "\n",
              "        const docLinkHtml = 'Like what you see? Visit the ' +\n",
              "          '<a target=\"_blank\" href=https://colab.research.google.com/notebooks/data_table.ipynb>data table notebook</a>'\n",
              "          + ' to learn more about interactive tables.';\n",
              "        element.innerHTML = '';\n",
              "        dataTable['output_type'] = 'display_data';\n",
              "        await google.colab.output.renderOutput(dataTable, element);\n",
              "        const docLink = document.createElement('div');\n",
              "        docLink.innerHTML = docLinkHtml;\n",
              "        element.appendChild(docLink);\n",
              "      }\n",
              "    </script>\n",
              "  </div>\n",
              "\n",
              "\n",
              "<div id=\"df-849661bf-8629-424e-a508-9912c545e079\">\n",
              "  <button class=\"colab-df-quickchart\" onclick=\"quickchart('df-849661bf-8629-424e-a508-9912c545e079')\"\n",
              "            title=\"Suggest charts\"\n",
              "            style=\"display:none;\">\n",
              "\n",
              "<svg xmlns=\"http://www.w3.org/2000/svg\" height=\"24px\"viewBox=\"0 0 24 24\"\n",
              "     width=\"24px\">\n",
              "    <g>\n",
              "        <path d=\"M19 3H5c-1.1 0-2 .9-2 2v14c0 1.1.9 2 2 2h14c1.1 0 2-.9 2-2V5c0-1.1-.9-2-2-2zM9 17H7v-7h2v7zm4 0h-2V7h2v10zm4 0h-2v-4h2v4z\"/>\n",
              "    </g>\n",
              "</svg>\n",
              "  </button>\n",
              "\n",
              "<style>\n",
              "  .colab-df-quickchart {\n",
              "      --bg-color: #E8F0FE;\n",
              "      --fill-color: #1967D2;\n",
              "      --hover-bg-color: #E2EBFA;\n",
              "      --hover-fill-color: #174EA6;\n",
              "      --disabled-fill-color: #AAA;\n",
              "      --disabled-bg-color: #DDD;\n",
              "  }\n",
              "\n",
              "  [theme=dark] .colab-df-quickchart {\n",
              "      --bg-color: #3B4455;\n",
              "      --fill-color: #D2E3FC;\n",
              "      --hover-bg-color: #434B5C;\n",
              "      --hover-fill-color: #FFFFFF;\n",
              "      --disabled-bg-color: #3B4455;\n",
              "      --disabled-fill-color: #666;\n",
              "  }\n",
              "\n",
              "  .colab-df-quickchart {\n",
              "    background-color: var(--bg-color);\n",
              "    border: none;\n",
              "    border-radius: 50%;\n",
              "    cursor: pointer;\n",
              "    display: none;\n",
              "    fill: var(--fill-color);\n",
              "    height: 32px;\n",
              "    padding: 0;\n",
              "    width: 32px;\n",
              "  }\n",
              "\n",
              "  .colab-df-quickchart:hover {\n",
              "    background-color: var(--hover-bg-color);\n",
              "    box-shadow: 0 1px 2px rgba(60, 64, 67, 0.3), 0 1px 3px 1px rgba(60, 64, 67, 0.15);\n",
              "    fill: var(--button-hover-fill-color);\n",
              "  }\n",
              "\n",
              "  .colab-df-quickchart-complete:disabled,\n",
              "  .colab-df-quickchart-complete:disabled:hover {\n",
              "    background-color: var(--disabled-bg-color);\n",
              "    fill: var(--disabled-fill-color);\n",
              "    box-shadow: none;\n",
              "  }\n",
              "\n",
              "  .colab-df-spinner {\n",
              "    border: 2px solid var(--fill-color);\n",
              "    border-color: transparent;\n",
              "    border-bottom-color: var(--fill-color);\n",
              "    animation:\n",
              "      spin 1s steps(1) infinite;\n",
              "  }\n",
              "\n",
              "  @keyframes spin {\n",
              "    0% {\n",
              "      border-color: transparent;\n",
              "      border-bottom-color: var(--fill-color);\n",
              "      border-left-color: var(--fill-color);\n",
              "    }\n",
              "    20% {\n",
              "      border-color: transparent;\n",
              "      border-left-color: var(--fill-color);\n",
              "      border-top-color: var(--fill-color);\n",
              "    }\n",
              "    30% {\n",
              "      border-color: transparent;\n",
              "      border-left-color: var(--fill-color);\n",
              "      border-top-color: var(--fill-color);\n",
              "      border-right-color: var(--fill-color);\n",
              "    }\n",
              "    40% {\n",
              "      border-color: transparent;\n",
              "      border-right-color: var(--fill-color);\n",
              "      border-top-color: var(--fill-color);\n",
              "    }\n",
              "    60% {\n",
              "      border-color: transparent;\n",
              "      border-right-color: var(--fill-color);\n",
              "    }\n",
              "    80% {\n",
              "      border-color: transparent;\n",
              "      border-right-color: var(--fill-color);\n",
              "      border-bottom-color: var(--fill-color);\n",
              "    }\n",
              "    90% {\n",
              "      border-color: transparent;\n",
              "      border-bottom-color: var(--fill-color);\n",
              "    }\n",
              "  }\n",
              "</style>\n",
              "\n",
              "  <script>\n",
              "    async function quickchart(key) {\n",
              "      const quickchartButtonEl =\n",
              "        document.querySelector('#' + key + ' button');\n",
              "      quickchartButtonEl.disabled = true;  // To prevent multiple clicks.\n",
              "      quickchartButtonEl.classList.add('colab-df-spinner');\n",
              "      try {\n",
              "        const charts = await google.colab.kernel.invokeFunction(\n",
              "            'suggestCharts', [key], {});\n",
              "      } catch (error) {\n",
              "        console.error('Error during call to suggestCharts:', error);\n",
              "      }\n",
              "      quickchartButtonEl.classList.remove('colab-df-spinner');\n",
              "      quickchartButtonEl.classList.add('colab-df-quickchart-complete');\n",
              "    }\n",
              "    (() => {\n",
              "      let quickchartButtonEl =\n",
              "        document.querySelector('#df-849661bf-8629-424e-a508-9912c545e079 button');\n",
              "      quickchartButtonEl.style.display =\n",
              "        google.colab.kernel.accessAllowed ? 'block' : 'none';\n",
              "    })();\n",
              "  </script>\n",
              "</div>\n",
              "\n",
              "    </div>\n",
              "  </div>\n"
            ],
            "application/vnd.google.colaboratory.intrinsic+json": {
              "type": "dataframe",
              "variable_name": "dfC"
            }
          },
          "metadata": {},
          "execution_count": 9
        }
      ],
      "source": [
        "dfC.head()"
      ]
    },
    {
      "cell_type": "code",
      "execution_count": null,
      "metadata": {
        "id": "6AYm1-IFBEvk",
        "colab": {
          "base_uri": "https://localhost:8080/",
          "height": 206
        },
        "outputId": "60ae3dbc-d15a-48a8-9ece-5814ccb671bf"
      },
      "outputs": [
        {
          "output_type": "execute_result",
          "data": {
            "text/plain": [
              "   participant_id  Age  Gender  Education    Interest Salary Scale\n",
              "0               1   19    Male          0     Unknown        Low_2\n",
              "1               2   27  Female          0      Sports     Medium_6\n",
              "2               3   21  Female          0     Unknown        Low_2\n",
              "3               4   28    Male          0      Others        Low_3\n",
              "4               5   36  Female          1  Technology        Low_2"
            ],
            "text/html": [
              "\n",
              "  <div id=\"df-f4158cd0-ce41-469d-b0f9-cd7aea27efc8\" class=\"colab-df-container\">\n",
              "    <div>\n",
              "<style scoped>\n",
              "    .dataframe tbody tr th:only-of-type {\n",
              "        vertical-align: middle;\n",
              "    }\n",
              "\n",
              "    .dataframe tbody tr th {\n",
              "        vertical-align: top;\n",
              "    }\n",
              "\n",
              "    .dataframe thead th {\n",
              "        text-align: right;\n",
              "    }\n",
              "</style>\n",
              "<table border=\"1\" class=\"dataframe\">\n",
              "  <thead>\n",
              "    <tr style=\"text-align: right;\">\n",
              "      <th></th>\n",
              "      <th>participant_id</th>\n",
              "      <th>Age</th>\n",
              "      <th>Gender</th>\n",
              "      <th>Education</th>\n",
              "      <th>Interest</th>\n",
              "      <th>Salary Scale</th>\n",
              "    </tr>\n",
              "  </thead>\n",
              "  <tbody>\n",
              "    <tr>\n",
              "      <th>0</th>\n",
              "      <td>1</td>\n",
              "      <td>19</td>\n",
              "      <td>Male</td>\n",
              "      <td>0</td>\n",
              "      <td>Unknown</td>\n",
              "      <td>Low_2</td>\n",
              "    </tr>\n",
              "    <tr>\n",
              "      <th>1</th>\n",
              "      <td>2</td>\n",
              "      <td>27</td>\n",
              "      <td>Female</td>\n",
              "      <td>0</td>\n",
              "      <td>Sports</td>\n",
              "      <td>Medium_6</td>\n",
              "    </tr>\n",
              "    <tr>\n",
              "      <th>2</th>\n",
              "      <td>3</td>\n",
              "      <td>21</td>\n",
              "      <td>Female</td>\n",
              "      <td>0</td>\n",
              "      <td>Unknown</td>\n",
              "      <td>Low_2</td>\n",
              "    </tr>\n",
              "    <tr>\n",
              "      <th>3</th>\n",
              "      <td>4</td>\n",
              "      <td>28</td>\n",
              "      <td>Male</td>\n",
              "      <td>0</td>\n",
              "      <td>Others</td>\n",
              "      <td>Low_3</td>\n",
              "    </tr>\n",
              "    <tr>\n",
              "      <th>4</th>\n",
              "      <td>5</td>\n",
              "      <td>36</td>\n",
              "      <td>Female</td>\n",
              "      <td>1</td>\n",
              "      <td>Technology</td>\n",
              "      <td>Low_2</td>\n",
              "    </tr>\n",
              "  </tbody>\n",
              "</table>\n",
              "</div>\n",
              "    <div class=\"colab-df-buttons\">\n",
              "\n",
              "  <div class=\"colab-df-container\">\n",
              "    <button class=\"colab-df-convert\" onclick=\"convertToInteractive('df-f4158cd0-ce41-469d-b0f9-cd7aea27efc8')\"\n",
              "            title=\"Convert this dataframe to an interactive table.\"\n",
              "            style=\"display:none;\">\n",
              "\n",
              "  <svg xmlns=\"http://www.w3.org/2000/svg\" height=\"24px\" viewBox=\"0 -960 960 960\">\n",
              "    <path d=\"M120-120v-720h720v720H120Zm60-500h600v-160H180v160Zm220 220h160v-160H400v160Zm0 220h160v-160H400v160ZM180-400h160v-160H180v160Zm440 0h160v-160H620v160ZM180-180h160v-160H180v160Zm440 0h160v-160H620v160Z\"/>\n",
              "  </svg>\n",
              "    </button>\n",
              "\n",
              "  <style>\n",
              "    .colab-df-container {\n",
              "      display:flex;\n",
              "      gap: 12px;\n",
              "    }\n",
              "\n",
              "    .colab-df-convert {\n",
              "      background-color: #E8F0FE;\n",
              "      border: none;\n",
              "      border-radius: 50%;\n",
              "      cursor: pointer;\n",
              "      display: none;\n",
              "      fill: #1967D2;\n",
              "      height: 32px;\n",
              "      padding: 0 0 0 0;\n",
              "      width: 32px;\n",
              "    }\n",
              "\n",
              "    .colab-df-convert:hover {\n",
              "      background-color: #E2EBFA;\n",
              "      box-shadow: 0px 1px 2px rgba(60, 64, 67, 0.3), 0px 1px 3px 1px rgba(60, 64, 67, 0.15);\n",
              "      fill: #174EA6;\n",
              "    }\n",
              "\n",
              "    .colab-df-buttons div {\n",
              "      margin-bottom: 4px;\n",
              "    }\n",
              "\n",
              "    [theme=dark] .colab-df-convert {\n",
              "      background-color: #3B4455;\n",
              "      fill: #D2E3FC;\n",
              "    }\n",
              "\n",
              "    [theme=dark] .colab-df-convert:hover {\n",
              "      background-color: #434B5C;\n",
              "      box-shadow: 0px 1px 3px 1px rgba(0, 0, 0, 0.15);\n",
              "      filter: drop-shadow(0px 1px 2px rgba(0, 0, 0, 0.3));\n",
              "      fill: #FFFFFF;\n",
              "    }\n",
              "  </style>\n",
              "\n",
              "    <script>\n",
              "      const buttonEl =\n",
              "        document.querySelector('#df-f4158cd0-ce41-469d-b0f9-cd7aea27efc8 button.colab-df-convert');\n",
              "      buttonEl.style.display =\n",
              "        google.colab.kernel.accessAllowed ? 'block' : 'none';\n",
              "\n",
              "      async function convertToInteractive(key) {\n",
              "        const element = document.querySelector('#df-f4158cd0-ce41-469d-b0f9-cd7aea27efc8');\n",
              "        const dataTable =\n",
              "          await google.colab.kernel.invokeFunction('convertToInteractive',\n",
              "                                                    [key], {});\n",
              "        if (!dataTable) return;\n",
              "\n",
              "        const docLinkHtml = 'Like what you see? Visit the ' +\n",
              "          '<a target=\"_blank\" href=https://colab.research.google.com/notebooks/data_table.ipynb>data table notebook</a>'\n",
              "          + ' to learn more about interactive tables.';\n",
              "        element.innerHTML = '';\n",
              "        dataTable['output_type'] = 'display_data';\n",
              "        await google.colab.output.renderOutput(dataTable, element);\n",
              "        const docLink = document.createElement('div');\n",
              "        docLink.innerHTML = docLinkHtml;\n",
              "        element.appendChild(docLink);\n",
              "      }\n",
              "    </script>\n",
              "  </div>\n",
              "\n",
              "\n",
              "<div id=\"df-d66360e7-bb88-4e18-b846-cebca78724f4\">\n",
              "  <button class=\"colab-df-quickchart\" onclick=\"quickchart('df-d66360e7-bb88-4e18-b846-cebca78724f4')\"\n",
              "            title=\"Suggest charts\"\n",
              "            style=\"display:none;\">\n",
              "\n",
              "<svg xmlns=\"http://www.w3.org/2000/svg\" height=\"24px\"viewBox=\"0 0 24 24\"\n",
              "     width=\"24px\">\n",
              "    <g>\n",
              "        <path d=\"M19 3H5c-1.1 0-2 .9-2 2v14c0 1.1.9 2 2 2h14c1.1 0 2-.9 2-2V5c0-1.1-.9-2-2-2zM9 17H7v-7h2v7zm4 0h-2V7h2v10zm4 0h-2v-4h2v4z\"/>\n",
              "    </g>\n",
              "</svg>\n",
              "  </button>\n",
              "\n",
              "<style>\n",
              "  .colab-df-quickchart {\n",
              "      --bg-color: #E8F0FE;\n",
              "      --fill-color: #1967D2;\n",
              "      --hover-bg-color: #E2EBFA;\n",
              "      --hover-fill-color: #174EA6;\n",
              "      --disabled-fill-color: #AAA;\n",
              "      --disabled-bg-color: #DDD;\n",
              "  }\n",
              "\n",
              "  [theme=dark] .colab-df-quickchart {\n",
              "      --bg-color: #3B4455;\n",
              "      --fill-color: #D2E3FC;\n",
              "      --hover-bg-color: #434B5C;\n",
              "      --hover-fill-color: #FFFFFF;\n",
              "      --disabled-bg-color: #3B4455;\n",
              "      --disabled-fill-color: #666;\n",
              "  }\n",
              "\n",
              "  .colab-df-quickchart {\n",
              "    background-color: var(--bg-color);\n",
              "    border: none;\n",
              "    border-radius: 50%;\n",
              "    cursor: pointer;\n",
              "    display: none;\n",
              "    fill: var(--fill-color);\n",
              "    height: 32px;\n",
              "    padding: 0;\n",
              "    width: 32px;\n",
              "  }\n",
              "\n",
              "  .colab-df-quickchart:hover {\n",
              "    background-color: var(--hover-bg-color);\n",
              "    box-shadow: 0 1px 2px rgba(60, 64, 67, 0.3), 0 1px 3px 1px rgba(60, 64, 67, 0.15);\n",
              "    fill: var(--button-hover-fill-color);\n",
              "  }\n",
              "\n",
              "  .colab-df-quickchart-complete:disabled,\n",
              "  .colab-df-quickchart-complete:disabled:hover {\n",
              "    background-color: var(--disabled-bg-color);\n",
              "    fill: var(--disabled-fill-color);\n",
              "    box-shadow: none;\n",
              "  }\n",
              "\n",
              "  .colab-df-spinner {\n",
              "    border: 2px solid var(--fill-color);\n",
              "    border-color: transparent;\n",
              "    border-bottom-color: var(--fill-color);\n",
              "    animation:\n",
              "      spin 1s steps(1) infinite;\n",
              "  }\n",
              "\n",
              "  @keyframes spin {\n",
              "    0% {\n",
              "      border-color: transparent;\n",
              "      border-bottom-color: var(--fill-color);\n",
              "      border-left-color: var(--fill-color);\n",
              "    }\n",
              "    20% {\n",
              "      border-color: transparent;\n",
              "      border-left-color: var(--fill-color);\n",
              "      border-top-color: var(--fill-color);\n",
              "    }\n",
              "    30% {\n",
              "      border-color: transparent;\n",
              "      border-left-color: var(--fill-color);\n",
              "      border-top-color: var(--fill-color);\n",
              "      border-right-color: var(--fill-color);\n",
              "    }\n",
              "    40% {\n",
              "      border-color: transparent;\n",
              "      border-right-color: var(--fill-color);\n",
              "      border-top-color: var(--fill-color);\n",
              "    }\n",
              "    60% {\n",
              "      border-color: transparent;\n",
              "      border-right-color: var(--fill-color);\n",
              "    }\n",
              "    80% {\n",
              "      border-color: transparent;\n",
              "      border-right-color: var(--fill-color);\n",
              "      border-bottom-color: var(--fill-color);\n",
              "    }\n",
              "    90% {\n",
              "      border-color: transparent;\n",
              "      border-bottom-color: var(--fill-color);\n",
              "    }\n",
              "  }\n",
              "</style>\n",
              "\n",
              "  <script>\n",
              "    async function quickchart(key) {\n",
              "      const quickchartButtonEl =\n",
              "        document.querySelector('#' + key + ' button');\n",
              "      quickchartButtonEl.disabled = true;  // To prevent multiple clicks.\n",
              "      quickchartButtonEl.classList.add('colab-df-spinner');\n",
              "      try {\n",
              "        const charts = await google.colab.kernel.invokeFunction(\n",
              "            'suggestCharts', [key], {});\n",
              "      } catch (error) {\n",
              "        console.error('Error during call to suggestCharts:', error);\n",
              "      }\n",
              "      quickchartButtonEl.classList.remove('colab-df-spinner');\n",
              "      quickchartButtonEl.classList.add('colab-df-quickchart-complete');\n",
              "    }\n",
              "    (() => {\n",
              "      let quickchartButtonEl =\n",
              "        document.querySelector('#df-d66360e7-bb88-4e18-b846-cebca78724f4 button');\n",
              "      quickchartButtonEl.style.display =\n",
              "        google.colab.kernel.accessAllowed ? 'block' : 'none';\n",
              "    })();\n",
              "  </script>\n",
              "</div>\n",
              "\n",
              "    </div>\n",
              "  </div>\n"
            ],
            "application/vnd.google.colaboratory.intrinsic+json": {
              "type": "dataframe",
              "variable_name": "dfDC"
            }
          },
          "metadata": {},
          "execution_count": 10
        }
      ],
      "source": [
        "dfDC.head()"
      ]
    },
    {
      "cell_type": "code",
      "execution_count": null,
      "metadata": {
        "id": "JqC0Gi1uNPrq",
        "colab": {
          "base_uri": "https://localhost:8080/",
          "height": 397
        },
        "outputId": "facc33d2-0430-4bf4-a2a4-c9c6e4c9160a"
      },
      "outputs": [
        {
          "output_type": "execute_result",
          "data": {
            "text/plain": [
              "participant_id        0\n",
              "Introversion Score    0\n",
              "Sensing Score         0\n",
              "Thinking Score        0\n",
              "Judging Score         0\n",
              "Age                   0\n",
              "Gender                0\n",
              "Education             0\n",
              "Interest              0\n",
              "Salary Scale          0\n",
              "dtype: int64"
            ],
            "text/html": [
              "<div>\n",
              "<style scoped>\n",
              "    .dataframe tbody tr th:only-of-type {\n",
              "        vertical-align: middle;\n",
              "    }\n",
              "\n",
              "    .dataframe tbody tr th {\n",
              "        vertical-align: top;\n",
              "    }\n",
              "\n",
              "    .dataframe thead th {\n",
              "        text-align: right;\n",
              "    }\n",
              "</style>\n",
              "<table border=\"1\" class=\"dataframe\">\n",
              "  <thead>\n",
              "    <tr style=\"text-align: right;\">\n",
              "      <th></th>\n",
              "      <th>0</th>\n",
              "    </tr>\n",
              "  </thead>\n",
              "  <tbody>\n",
              "    <tr>\n",
              "      <th>participant_id</th>\n",
              "      <td>0</td>\n",
              "    </tr>\n",
              "    <tr>\n",
              "      <th>Introversion Score</th>\n",
              "      <td>0</td>\n",
              "    </tr>\n",
              "    <tr>\n",
              "      <th>Sensing Score</th>\n",
              "      <td>0</td>\n",
              "    </tr>\n",
              "    <tr>\n",
              "      <th>Thinking Score</th>\n",
              "      <td>0</td>\n",
              "    </tr>\n",
              "    <tr>\n",
              "      <th>Judging Score</th>\n",
              "      <td>0</td>\n",
              "    </tr>\n",
              "    <tr>\n",
              "      <th>Age</th>\n",
              "      <td>0</td>\n",
              "    </tr>\n",
              "    <tr>\n",
              "      <th>Gender</th>\n",
              "      <td>0</td>\n",
              "    </tr>\n",
              "    <tr>\n",
              "      <th>Education</th>\n",
              "      <td>0</td>\n",
              "    </tr>\n",
              "    <tr>\n",
              "      <th>Interest</th>\n",
              "      <td>0</td>\n",
              "    </tr>\n",
              "    <tr>\n",
              "      <th>Salary Scale</th>\n",
              "      <td>0</td>\n",
              "    </tr>\n",
              "  </tbody>\n",
              "</table>\n",
              "</div><br><label><b>dtype:</b> int64</label>"
            ]
          },
          "metadata": {},
          "execution_count": 11
        }
      ],
      "source": [
        "# Mengecek jumlah nilai null pada setiap kolom\n",
        "merged_data.isnull().sum()"
      ]
    },
    {
      "cell_type": "code",
      "execution_count": null,
      "metadata": {
        "id": "qOd4B8zZOhMK",
        "colab": {
          "base_uri": "https://localhost:8080/"
        },
        "outputId": "59deb47e-7d93-46d0-8933-b46e00b58547"
      },
      "outputs": [
        {
          "output_type": "execute_result",
          "data": {
            "text/plain": [
              "False"
            ]
          },
          "metadata": {},
          "execution_count": 12
        }
      ],
      "source": [
        "# Mengecek apakah ada nilai null pada seluruh dataset\n",
        "merged_data.isnull().values.any()"
      ]
    },
    {
      "cell_type": "code",
      "execution_count": null,
      "metadata": {
        "id": "C-cdnlhVOhrn",
        "colab": {
          "base_uri": "https://localhost:8080/",
          "height": 397
        },
        "outputId": "3c2f8a4c-e107-457a-863e-f586a9776529"
      },
      "outputs": [
        {
          "output_type": "execute_result",
          "data": {
            "text/plain": [
              "participant_id            0\n",
              "Introversion Score        0\n",
              "Sensing Score             8\n",
              "Thinking Score            0\n",
              "Judging Score           338\n",
              "Age                       0\n",
              "Gender                    0\n",
              "Education             75408\n",
              "Interest                  0\n",
              "Salary Scale              0\n",
              "dtype: int64"
            ],
            "text/html": [
              "<div>\n",
              "<style scoped>\n",
              "    .dataframe tbody tr th:only-of-type {\n",
              "        vertical-align: middle;\n",
              "    }\n",
              "\n",
              "    .dataframe tbody tr th {\n",
              "        vertical-align: top;\n",
              "    }\n",
              "\n",
              "    .dataframe thead th {\n",
              "        text-align: right;\n",
              "    }\n",
              "</style>\n",
              "<table border=\"1\" class=\"dataframe\">\n",
              "  <thead>\n",
              "    <tr style=\"text-align: right;\">\n",
              "      <th></th>\n",
              "      <th>0</th>\n",
              "    </tr>\n",
              "  </thead>\n",
              "  <tbody>\n",
              "    <tr>\n",
              "      <th>participant_id</th>\n",
              "      <td>0</td>\n",
              "    </tr>\n",
              "    <tr>\n",
              "      <th>Introversion Score</th>\n",
              "      <td>0</td>\n",
              "    </tr>\n",
              "    <tr>\n",
              "      <th>Sensing Score</th>\n",
              "      <td>8</td>\n",
              "    </tr>\n",
              "    <tr>\n",
              "      <th>Thinking Score</th>\n",
              "      <td>0</td>\n",
              "    </tr>\n",
              "    <tr>\n",
              "      <th>Judging Score</th>\n",
              "      <td>338</td>\n",
              "    </tr>\n",
              "    <tr>\n",
              "      <th>Age</th>\n",
              "      <td>0</td>\n",
              "    </tr>\n",
              "    <tr>\n",
              "      <th>Gender</th>\n",
              "      <td>0</td>\n",
              "    </tr>\n",
              "    <tr>\n",
              "      <th>Education</th>\n",
              "      <td>75408</td>\n",
              "    </tr>\n",
              "    <tr>\n",
              "      <th>Interest</th>\n",
              "      <td>0</td>\n",
              "    </tr>\n",
              "    <tr>\n",
              "      <th>Salary Scale</th>\n",
              "      <td>0</td>\n",
              "    </tr>\n",
              "  </tbody>\n",
              "</table>\n",
              "</div><br><label><b>dtype:</b> int64</label>"
            ]
          },
          "metadata": {},
          "execution_count": 13
        }
      ],
      "source": [
        "# Mengecek jumlah nilai 0 pada setiap kolom\n",
        "(merged_data == 0).sum()"
      ]
    },
    {
      "cell_type": "code",
      "execution_count": null,
      "metadata": {
        "id": "3R1tv58WOldb",
        "colab": {
          "base_uri": "https://localhost:8080/"
        },
        "outputId": "33381520-730d-4ee5-d3d4-7764e4c0facd"
      },
      "outputs": [
        {
          "output_type": "execute_result",
          "data": {
            "text/plain": [
              "True"
            ]
          },
          "metadata": {},
          "execution_count": 14
        }
      ],
      "source": [
        "# Mengecek apakah ada nilai 0 pada seluruh dataset\n",
        "(merged_data == 0).any().any()"
      ]
    },
    {
      "cell_type": "code",
      "execution_count": null,
      "metadata": {
        "id": "eg01dGi3OpOD",
        "colab": {
          "base_uri": "https://localhost:8080/"
        },
        "outputId": "f70f6e65-7b00-4d33-dd00-4e64c3778f12"
      },
      "outputs": [
        {
          "output_type": "stream",
          "name": "stdout",
          "text": [
            "Jumlah nilai 0 pada kolom 'Introversion Score': 0\n",
            "Jumlah nilai 0 pada kolom 'Sensing Score': 8\n",
            "Jumlah nilai 0 pada kolom 'Thinking Score': 0\n",
            "Jumlah nilai 0 pada kolom 'Judging Score': 338\n",
            "Apakah ada nilai 0 pada kolom yang dipilih: True\n"
          ]
        }
      ],
      "source": [
        "# Kolom yang ingin dicek\n",
        "columns_to_check = ['Introversion Score', 'Sensing Score', 'Thinking Score', 'Judging Score']\n",
        "\n",
        "# Mengecek jumlah nilai 0 pada kolom yang dipilih\n",
        "for column in columns_to_check:\n",
        "    zero_count = (merged_data[column] == 0).sum()\n",
        "    print(f\"Jumlah nilai 0 pada kolom '{column}': {zero_count}\")\n",
        "\n",
        "# Mengecek apakah ada nilai 0 pada kolom yang dipilih\n",
        "has_zero_values = (merged_data[columns_to_check] == 0).any().any()\n",
        "print(f\"Apakah ada nilai 0 pada kolom yang dipilih: {has_zero_values}\")"
      ]
    },
    {
      "cell_type": "code",
      "execution_count": null,
      "metadata": {
        "id": "cdzu5hvHOq4q"
      },
      "outputs": [],
      "source": [
        "for column in columns_to_check:\n",
        "    # Mengambil nilai minimum yang bukan 0\n",
        "    min_value = merged_data[merged_data[column] != 0][column].min()\n",
        "\n",
        "    # Mengganti nilai 0 dengan nilai minimum\n",
        "    merged_data.loc[merged_data[column] == 0, column] = min_value"
      ]
    },
    {
      "cell_type": "code",
      "execution_count": null,
      "metadata": {
        "id": "LL7Ao-0tPXlL",
        "colab": {
          "base_uri": "https://localhost:8080/"
        },
        "outputId": "b6e1d8f0-7398-4693-dc2e-ef8a5d5813b1"
      },
      "outputs": [
        {
          "output_type": "stream",
          "name": "stdout",
          "text": [
            "Jumlah baris duplikat: 0\n",
            "\n",
            "Baris duplikat:\n",
            "Empty DataFrame\n",
            "Columns: [participant_id, Introversion Score, Sensing Score, Thinking Score, Judging Score, Age, Gender, Education, Interest, Salary Scale]\n",
            "Index: []\n"
          ]
        }
      ],
      "source": [
        "# Mengecek jumlah baris duplikat\n",
        "num_duplicates = merged_data.duplicated().sum()\n",
        "print(f\"Jumlah baris duplikat: {num_duplicates}\")\n",
        "\n",
        "# Menampilkan baris duplikat (opsional)\n",
        "duplicate_rows = merged_data[merged_data.duplicated()]\n",
        "print(\"\\nBaris duplikat:\")\n",
        "print(duplicate_rows)"
      ]
    },
    {
      "cell_type": "code",
      "execution_count": null,
      "metadata": {
        "id": "zFksQaPqPZ8i"
      },
      "outputs": [],
      "source": [
        "# Menghapus baris duplikat dan menyimpan hasilnya di DataFrame baru\n",
        "merged_data_no_duplicates = merged_data.drop_duplicates()\n",
        "\n",
        "# Atau, Anda dapat menghapus baris duplikat secara inplace:\n",
        "merged_data.drop_duplicates(inplace=True)"
      ]
    },
    {
      "cell_type": "code",
      "execution_count": null,
      "metadata": {
        "id": "bpFC4aqDQMJ7",
        "colab": {
          "base_uri": "https://localhost:8080/"
        },
        "outputId": "ea05a2c3-f225-4a74-ce20-409be5aeaec2"
      },
      "outputs": [
        {
          "output_type": "stream",
          "name": "stdout",
          "text": [
            "['Unknown' 'Sports' 'Others' 'Technology' 'Arts']\n"
          ]
        }
      ],
      "source": [
        "unique_interests = merged_data['Interest'].unique()\n",
        "print(unique_interests)"
      ]
    },
    {
      "cell_type": "code",
      "execution_count": null,
      "metadata": {
        "id": "B_cos_AdQ5Pi",
        "colab": {
          "base_uri": "https://localhost:8080/",
          "height": 497
        },
        "outputId": "6154fe04-8a4f-4928-c8b7-12494e0e5158"
      },
      "outputs": [
        {
          "output_type": "display_data",
          "data": {
            "text/plain": [
              "<Figure size 1200x600 with 1 Axes>"
            ],
            "image/png": "[encoded data removed]"
          },
          "metadata": {}
        }
      ],
      "source": [
        "import seaborn as sns\n",
        "import matplotlib.pyplot as plt\n",
        "\n",
        "plt.figure(figsize=(12, 6))\n",
        "sns.countplot(x='Salary Scale', hue='Interest', data=merged_data)\n",
        "plt.title('Distribusi Interest Berdasarkan Salary Scale')\n",
        "plt.xlabel('Salary Scale')\n",
        "plt.ylabel('Jumlah')\n",
        "plt.xticks(rotation=45, ha='right')  # Rotasi label sumbu x agar mudah dibaca\n",
        "plt.legend(title='Interest')\n",
        "plt.tight_layout()  # Menyesuaikan layout agar tidak terpotong\n",
        "plt.show()"
      ]
    },
    {
      "cell_type": "code",
      "execution_count": null,
      "metadata": {
        "id": "1TkVADRDGou2",
        "colab": {
          "base_uri": "https://localhost:8080/"
        },
        "outputId": "559ad99f-048f-4211-9de1-1ea06ba25484"
      },
      "outputs": [
        {
          "output_type": "stream",
          "name": "stdout",
          "text": [
            "Unknown Count: 48835, Total Count: 128061\n"
          ]
        }
      ],
      "source": [
        "# Cek jumlah data unknown\n",
        "unknown_count = merged_data['Interest'].value_counts().get('Unknown', 0)\n",
        "total_count = len(merged_data)\n",
        "print(f\"Unknown Count: {unknown_count}, Total Count: {total_count}\")\n"
      ]
    },
    {
      "cell_type": "code",
      "execution_count": null,
      "metadata": {
        "id": "PQDSNhbiHl-X"
      },
      "outputs": [],
      "source": [
        "# # Buat peta distribusi Interest berdasarkan Salary Scale\n",
        "# interest_map = merged_data[merged_data['Interest'] != 'Unknown'].groupby('Salary Scale')['Interest'].apply(lambda x: x.mode()[0]).to_dict()\n",
        "\n",
        "# # Ganti Unknown berdasarkan Salary Scale\n",
        "# merged_data['Interest'] = merged_data.apply(\n",
        "#     lambda row: interest_map[row['Salary Scale']] if row['Interest'] == 'Unknown' else row['Interest'], axis=1\n",
        "# )\n",
        "\n",
        "from sklearn.ensemble import RandomForestClassifier\n",
        "from sklearn.preprocessing import LabelEncoder\n",
        "\n",
        "# Split data into imputing and predicting sets\n",
        "imputing_data = merged_data[merged_data['Interest'] != 'Unknown']\n",
        "predicting_data = merged_data[merged_data['Interest'] == 'Unknown']\n",
        "\n",
        "# Prepare features and target for imputation\n",
        "X_impute = imputing_data.drop(columns=['Interest'])\n",
        "y_impute = imputing_data['Interest']\n",
        "\n",
        "# Create a LabelEncoder object\n",
        "encoder = LabelEncoder()\n",
        "\n",
        "# Apply label encoding to categorical features in X_impute\n",
        "for column in X_impute.select_dtypes(include=['object']).columns:\n",
        "    X_impute[column] = encoder.fit_transform(X_impute[column])\n",
        "\n",
        "# Prepare features for prediction\n",
        "X_predict = predicting_data.drop(columns=['Interest'])\n",
        "\n",
        "# Apply label encoding to categorical features in X_predict\n",
        "for column in X_predict.select_dtypes(include=['object']).columns:\n",
        "    X_predict[column] = encoder.fit_transform(X_predict[column])\n",
        "\n",
        "# Create and fit the RandomForestClassifier\n",
        "rf_imputer = RandomForestClassifier(random_state=42)\n",
        "rf_imputer.fit(X_impute, y_impute)\n",
        "\n",
        "# Predict missing 'Interest' values\n",
        "predicted_interest = rf_imputer.predict(X_predict)\n",
        "\n",
        "# Impute predicted values back into the original DataFrame\n",
        "merged_data.loc[merged_data['Interest'] == 'Unknown', 'Interest'] = predicted_interest\n",
        "\n"
      ]
    },
    {
      "cell_type": "code",
      "execution_count": null,
      "metadata": {
        "id": "6eiawvjkHbig",
        "colab": {
          "base_uri": "https://localhost:8080/"
        },
        "outputId": "dfce297b-2af6-4ca2-cc1b-74b8bdd88df7"
      },
      "outputs": [
        {
          "output_type": "stream",
          "name": "stdout",
          "text": [
            "Unknown Count: 0\n",
            "Percentage of Unknown: 0.00%\n"
          ]
        }
      ],
      "source": [
        "# Hitung jumlah dan proporsi Unknown\n",
        "total_data = len(merged_data)\n",
        "unknown_count = merged_data['Interest'].value_counts().get('Unknown', 0)\n",
        "unknown_percentage = (unknown_count / total_data) * 100\n",
        "\n",
        "print(f\"Unknown Count: {unknown_count}\")\n",
        "print(f\"Percentage of Unknown: {unknown_percentage:.2f}%\")\n"
      ]
    },
    {
      "cell_type": "code",
      "execution_count": null,
      "metadata": {
        "id": "7pKTWre185sy"
      },
      "outputs": [],
      "source": [
        "# # Hapus baris dengan nilai kosong\n",
        "# merged_data.dropna(inplace=True)\n"
      ]
    },
    {
      "cell_type": "code",
      "execution_count": null,
      "metadata": {
        "id": "Y1DMp-RX9BMB"
      },
      "outputs": [],
      "source": [
        "merged_data = merged_data[merged_data['Interest'] != 'Unknown']"
      ]
    },
    {
      "cell_type": "code",
      "source": [
        "# from sklearn.utils.class_weight import compute_class_weight\n",
        "\n",
        "# # Hitung bobot kelas\n",
        "# class_weights = compute_class_weight(\n",
        "#     class_weight='balanced',\n",
        "#     classes=merged_data['Salary Scale'].unique(),\n",
        "#     y=merged_data['Salary Scale']\n",
        "# )\n",
        "\n",
        "# # Buat dictionary pemetaan bobot kelas\n",
        "# class_weight_dict = dict(zip(merged_data['Salary Scale'].unique(), class_weights))\n",
        "\n",
        "# # Cetak dictionary bobot kelas\n",
        "# print(class_weight_dict)\n",
        "\n",
        "# # ... (kode selanjutnya, misalnya saat training model)\n",
        "# # model = RandomForestClassifier(random_state=42, class_weight=class_weight_dict)\n",
        "# # model.fit(X_train, y_train)"
      ],
      "metadata": {
        "id": "4BfCoW9OYVmn"
      },
      "execution_count": null,
      "outputs": []
    },
    {
      "cell_type": "code",
      "execution_count": null,
      "metadata": {
        "id": "CheObAn3_csW",
        "colab": {
          "base_uri": "https://localhost:8080/",
          "height": 692
        },
        "outputId": "6cfeeca1-05bd-4fd1-8255-f904b42883c3"
      },
      "outputs": [
        {
          "output_type": "stream",
          "name": "stdout",
          "text": [
            "Jumlah data setelah balancing: 3200\n"
          ]
        },
        {
          "output_type": "stream",
          "name": "stderr",
          "text": [
            "<ipython-input-27-c9f139deb535>:1: DeprecationWarning: DataFrameGroupBy.apply operated on the grouping columns. This behavior is deprecated, and in a future version of pandas the grouping columns will be excluded from the operation. Either pass `include_groups=False` to exclude the groupings or explicitly select the grouping columns after groupby to silence this warning.\n",
            "  merged_data = merged_data.groupby('Salary Scale').apply(lambda x: x.sample(200)).reset_index(drop=True)\n"
          ]
        },
        {
          "output_type": "execute_result",
          "data": {
            "text/plain": [
              "Salary Scale\n",
              "High_1      200\n",
              "High_2      200\n",
              "High_3      200\n",
              "High_4      200\n",
              "High_5      200\n",
              "Low_1       200\n",
              "Low_2       200\n",
              "Low_3       200\n",
              "Low_4       200\n",
              "Low_5       200\n",
              "Medium_1    200\n",
              "Medium_2    200\n",
              "Medium_3    200\n",
              "Medium_4    200\n",
              "Medium_5    200\n",
              "Medium_6    200\n",
              "Name: count, dtype: int64"
            ],
            "text/html": [
              "<div>\n",
              "<style scoped>\n",
              "    .dataframe tbody tr th:only-of-type {\n",
              "        vertical-align: middle;\n",
              "    }\n",
              "\n",
              "    .dataframe tbody tr th {\n",
              "        vertical-align: top;\n",
              "    }\n",
              "\n",
              "    .dataframe thead th {\n",
              "        text-align: right;\n",
              "    }\n",
              "</style>\n",
              "<table border=\"1\" class=\"dataframe\">\n",
              "  <thead>\n",
              "    <tr style=\"text-align: right;\">\n",
              "      <th></th>\n",
              "      <th>count</th>\n",
              "    </tr>\n",
              "    <tr>\n",
              "      <th>Salary Scale</th>\n",
              "      <th></th>\n",
              "    </tr>\n",
              "  </thead>\n",
              "  <tbody>\n",
              "    <tr>\n",
              "      <th>High_1</th>\n",
              "      <td>200</td>\n",
              "    </tr>\n",
              "    <tr>\n",
              "      <th>High_2</th>\n",
              "      <td>200</td>\n",
              "    </tr>\n",
              "    <tr>\n",
              "      <th>High_3</th>\n",
              "      <td>200</td>\n",
              "    </tr>\n",
              "    <tr>\n",
              "      <th>High_4</th>\n",
              "      <td>200</td>\n",
              "    </tr>\n",
              "    <tr>\n",
              "      <th>High_5</th>\n",
              "      <td>200</td>\n",
              "    </tr>\n",
              "    <tr>\n",
              "      <th>Low_1</th>\n",
              "      <td>200</td>\n",
              "    </tr>\n",
              "    <tr>\n",
              "      <th>Low_2</th>\n",
              "      <td>200</td>\n",
              "    </tr>\n",
              "    <tr>\n",
              "      <th>Low_3</th>\n",
              "      <td>200</td>\n",
              "    </tr>\n",
              "    <tr>\n",
              "      <th>Low_4</th>\n",
              "      <td>200</td>\n",
              "    </tr>\n",
              "    <tr>\n",
              "      <th>Low_5</th>\n",
              "      <td>200</td>\n",
              "    </tr>\n",
              "    <tr>\n",
              "      <th>Medium_1</th>\n",
              "      <td>200</td>\n",
              "    </tr>\n",
              "    <tr>\n",
              "      <th>Medium_2</th>\n",
              "      <td>200</td>\n",
              "    </tr>\n",
              "    <tr>\n",
              "      <th>Medium_3</th>\n",
              "      <td>200</td>\n",
              "    </tr>\n",
              "    <tr>\n",
              "      <th>Medium_4</th>\n",
              "      <td>200</td>\n",
              "    </tr>\n",
              "    <tr>\n",
              "      <th>Medium_5</th>\n",
              "      <td>200</td>\n",
              "    </tr>\n",
              "    <tr>\n",
              "      <th>Medium_6</th>\n",
              "      <td>200</td>\n",
              "    </tr>\n",
              "  </tbody>\n",
              "</table>\n",
              "</div><br><label><b>dtype:</b> int64</label>"
            ]
          },
          "metadata": {},
          "execution_count": 27
        }
      ],
      "source": [
        "merged_data = merged_data.groupby('Salary Scale').apply(lambda x: x.sample(200)).reset_index(drop=True)\n",
        "print(f\"Jumlah data setelah balancing: {len(merged_data)}\")\n",
        "merged_data['Salary Scale'].value_counts() # Untuk verifikasi"
      ]
    },
    {
      "cell_type": "code",
      "execution_count": null,
      "metadata": {
        "id": "vZKRFERBGI-b"
      },
      "outputs": [],
      "source": [
        "merged_data = merged_data.head(1000)"
      ]
    },
    {
      "cell_type": "code",
      "execution_count": null,
      "metadata": {
        "id": "qiWk1-KlBjQE",
        "colab": {
          "base_uri": "https://localhost:8080/",
          "height": 707
        },
        "outputId": "037e3a86-26a9-4774-d602-52b7b15d9df7"
      },
      "outputs": [
        {
          "output_type": "stream",
          "name": "stdout",
          "text": [
            "<class 'pandas.core.frame.DataFrame'>\n",
            "RangeIndex: 1000 entries, 0 to 999\n",
            "Data columns (total 10 columns):\n",
            " #   Column              Non-Null Count  Dtype  \n",
            "---  ------              --------------  -----  \n",
            " 0   participant_id      1000 non-null   int64  \n",
            " 1   Introversion Score  1000 non-null   float64\n",
            " 2   Sensing Score       1000 non-null   float64\n",
            " 3   Thinking Score      1000 non-null   float64\n",
            " 4   Judging Score       1000 non-null   float64\n",
            " 5   Age                 1000 non-null   int64  \n",
            " 6   Gender              1000 non-null   object \n",
            " 7   Education           1000 non-null   int64  \n",
            " 8   Interest            1000 non-null   object \n",
            " 9   Salary Scale        1000 non-null   object \n",
            "dtypes: float64(4), int64(3), object(3)\n",
            "memory usage: 78.2+ KB\n"
          ]
        },
        {
          "output_type": "execute_result",
          "data": {
            "text/plain": [
              "participant_id          int64\n",
              "Introversion Score    float64\n",
              "Sensing Score         float64\n",
              "Thinking Score        float64\n",
              "Judging Score         float64\n",
              "Age                     int64\n",
              "Gender                 object\n",
              "Education               int64\n",
              "Interest               object\n",
              "Salary Scale           object\n",
              "dtype: object"
            ],
            "text/html": [
              "<div>\n",
              "<style scoped>\n",
              "    .dataframe tbody tr th:only-of-type {\n",
              "        vertical-align: middle;\n",
              "    }\n",
              "\n",
              "    .dataframe tbody tr th {\n",
              "        vertical-align: top;\n",
              "    }\n",
              "\n",
              "    .dataframe thead th {\n",
              "        text-align: right;\n",
              "    }\n",
              "</style>\n",
              "<table border=\"1\" class=\"dataframe\">\n",
              "  <thead>\n",
              "    <tr style=\"text-align: right;\">\n",
              "      <th></th>\n",
              "      <th>0</th>\n",
              "    </tr>\n",
              "  </thead>\n",
              "  <tbody>\n",
              "    <tr>\n",
              "      <th>participant_id</th>\n",
              "      <td>int64</td>\n",
              "    </tr>\n",
              "    <tr>\n",
              "      <th>Introversion Score</th>\n",
              "      <td>float64</td>\n",
              "    </tr>\n",
              "    <tr>\n",
              "      <th>Sensing Score</th>\n",
              "      <td>float64</td>\n",
              "    </tr>\n",
              "    <tr>\n",
              "      <th>Thinking Score</th>\n",
              "      <td>float64</td>\n",
              "    </tr>\n",
              "    <tr>\n",
              "      <th>Judging Score</th>\n",
              "      <td>float64</td>\n",
              "    </tr>\n",
              "    <tr>\n",
              "      <th>Age</th>\n",
              "      <td>int64</td>\n",
              "    </tr>\n",
              "    <tr>\n",
              "      <th>Gender</th>\n",
              "      <td>object</td>\n",
              "    </tr>\n",
              "    <tr>\n",
              "      <th>Education</th>\n",
              "      <td>int64</td>\n",
              "    </tr>\n",
              "    <tr>\n",
              "      <th>Interest</th>\n",
              "      <td>object</td>\n",
              "    </tr>\n",
              "    <tr>\n",
              "      <th>Salary Scale</th>\n",
              "      <td>object</td>\n",
              "    </tr>\n",
              "  </tbody>\n",
              "</table>\n",
              "</div><br><label><b>dtype:</b> object</label>"
            ]
          },
          "metadata": {},
          "execution_count": 29
        }
      ],
      "source": [
        "merged_data.info()\n",
        "merged_data.dtypes"
      ]
    },
    {
      "cell_type": "code",
      "execution_count": null,
      "metadata": {
        "id": "acVMz_6lQT5C",
        "colab": {
          "base_uri": "https://localhost:8080/"
        },
        "outputId": "d81bd78d-7f02-4049-fd92-f3ddb3e5ae9c"
      },
      "outputs": [
        {
          "output_type": "stream",
          "name": "stdout",
          "text": [
            "['High_1' 'High_2' 'High_3' 'High_4' 'High_5']\n"
          ]
        }
      ],
      "source": [
        "unique_interests = merged_data['Salary Scale'].unique()\n",
        "print(unique_interests)"
      ]
    },
    {
      "cell_type": "code",
      "execution_count": null,
      "metadata": {
        "id": "ukvw6QtRQz1L",
        "colab": {
          "base_uri": "https://localhost:8080/",
          "height": 497
        },
        "outputId": "1b90a5f2-956e-4e62-ce87-7ab7d7eebc49"
      },
      "outputs": [
        {
          "output_type": "display_data",
          "data": {
            "text/plain": [
              "<Figure size 1200x600 with 1 Axes>"
            ],
            "image/png": "[encoded data removed]"
          },
          "metadata": {}
        }
      ],
      "source": [
        "plt.figure(figsize=(12, 6))\n",
        "sns.countplot(x='Salary Scale', hue='Interest', data=merged_data)\n",
        "plt.title('Distribusi Interest Berdasarkan Salary Scale')\n",
        "plt.xlabel('Salary Scale')\n",
        "plt.ylabel('Jumlah')\n",
        "plt.xticks(rotation=45, ha='right')  # Rotasi label sumbu x agar mudah dibaca\n",
        "plt.legend(title='Interest')\n",
        "plt.tight_layout()  # Menyesuaikan layout agar tidak terpotong\n",
        "plt.show()"
      ]
    },
    {
      "cell_type": "code",
      "execution_count": null,
      "metadata": {
        "id": "pyAF5Y2EuEh_",
        "colab": {
          "base_uri": "https://localhost:8080/"
        },
        "outputId": "e3e5c1d8-3dbd-406b-be34-3fe63dac495f"
      },
      "outputs": [
        {
          "output_type": "stream",
          "name": "stdout",
          "text": [
            "|    |   Salary Scale (Encoded) | Salary Scale (Label)   |\n",
            "|---:|-------------------------:|:-----------------------|\n",
            "|  0 |                        0 | High_1                 |\n",
            "|  1 |                        1 | High_2                 |\n",
            "|  2 |                        2 | High_3                 |\n",
            "|  3 |                        3 | High_4                 |\n",
            "|  4 |                        4 | High_5                 |\n",
            "|  5 |                        5 | Low_1                  |\n",
            "|  6 |                        6 | Low_2                  |\n",
            "|  7 |                        7 | Low_3                  |\n",
            "|  8 |                        8 | Low_4                  |\n",
            "|  9 |                        9 | Low_5                  |\n",
            "| 10 |                       10 | Medium_1               |\n",
            "| 11 |                       11 | Medium_2               |\n",
            "| 12 |                       12 | Medium_3               |\n",
            "| 13 |                       13 | Medium_4               |\n",
            "| 14 |                       14 | Medium_5               |\n",
            "| 15 |                       15 | Medium_6               |\n"
          ]
        }
      ],
      "source": [
        "from tabulate import tabulate\n",
        "import pandas as pd\n",
        "\n",
        "# Asumsikan 'encoder' adalah objek LabelEncoder Anda yang sudah dilatih\n",
        "salary_scale_labels = encoder.classes_\n",
        "\n",
        "# Buat DataFrame untuk pemetaan\n",
        "salary_scale_mapping = pd.DataFrame({\n",
        "    'Salary Scale (Encoded)': range(len(salary_scale_labels)),\n",
        "    'Salary Scale (Label)': salary_scale_labels\n",
        "})\n",
        "\n",
        "# Generate tabel markdown\n",
        "table_md = tabulate(salary_scale_mapping, headers='keys', tablefmt='pipe')\n",
        "\n",
        "# Print tabel markdown\n",
        "print(table_md)"
      ]
    },
    {
      "cell_type": "code",
      "execution_count": null,
      "metadata": {
        "id": "nOeNRbfH9HTO"
      },
      "outputs": [],
      "source": [
        "from sklearn.preprocessing import LabelEncoder\n",
        "\n",
        "encoder = LabelEncoder()\n",
        "merged_data['Gender'] = encoder.fit_transform(merged_data['Gender'])\n",
        "merged_data['Interest'] = encoder.fit_transform(merged_data['Interest'])\n",
        "merged_data['Salary Scale'] = encoder.fit_transform(merged_data['Salary Scale'])"
      ]
    },
    {
      "cell_type": "code",
      "execution_count": null,
      "metadata": {
        "id": "YTeNJBIZQC1c",
        "colab": {
          "base_uri": "https://localhost:8080/"
        },
        "outputId": "f4c2229e-cce6-4109-b302-e9c5a523ab75"
      },
      "outputs": [
        {
          "output_type": "stream",
          "name": "stdout",
          "text": [
            "[1 3 2 0]\n"
          ]
        }
      ],
      "source": [
        "unique_interests = merged_data['Interest'].unique()\n",
        "print(unique_interests)"
      ]
    },
    {
      "cell_type": "code",
      "execution_count": null,
      "metadata": {
        "id": "y4k3MHwY9Jt3"
      },
      "outputs": [],
      "source": [
        "X = merged_data[['Introversion Score', 'Sensing Score', 'Thinking Score', 'Judging Score', 'Age', 'Gender', 'Education', 'Interest']]\n",
        "y = merged_data['Salary Scale']"
      ]
    },
    {
      "cell_type": "code",
      "execution_count": null,
      "metadata": {
        "id": "SW71zSmOYSN0"
      },
      "outputs": [],
      "source": [
        "from imblearn.over_sampling import SMOTE\n",
        "\n",
        "# Setting k_neighbors to a smaller value\n",
        "smote = SMOTE(random_state=42, k_neighbors=1)\n",
        "X_resampled, y_resampled = smote.fit_resample(X, y)"
      ]
    },
    {
      "cell_type": "code",
      "execution_count": null,
      "metadata": {
        "id": "XHEyvJh_3ZNa"
      },
      "outputs": [],
      "source": [
        "# from imblearn.over_sampling import SMOTE\n",
        "# from imblearn.under_sampling import RandomUnderSampler\n",
        "# from imblearn.pipeline import Pipeline\n",
        "\n",
        "# # Hitung jumlah data yang diinginkan untuk setiap Salary Scale\n",
        "# target_count = max(merged_data['Salary Scale'].value_counts())\n",
        "\n",
        "# # Buat dictionary target jumlah data untuk setiap Salary Scale\n",
        "# target_counts = {Salary Scale: target_count for Salary Scale in merged_data['Salary Scale'].unique()}\n",
        "\n",
        "# # Definisikan pipeline\n",
        "# pipeline = Pipeline([\n",
        "#     ('oversampling', SMOTE(sampling_strategy=target_counts)),  # Menggunakan target_counts untuk oversampling\n",
        "#     ('undersampling', RandomUnderSampler(sampling_strategy=target_counts)) # Menggunakan target_counts untuk undersampling\n",
        "# ])\n",
        "\n",
        "# # Terapkan pipeline pada data Anda\n",
        "# X_resampled, y_resampled = pipeline.fit_resample(X, y)"
      ]
    },
    {
      "cell_type": "code",
      "execution_count": null,
      "metadata": {
        "id": "mR2nJv-GQilD"
      },
      "outputs": [],
      "source": [
        "# # Contoh menggunakan sns.countplot()\n",
        "# import seaborn as sns\n",
        "# import matplotlib.pyplot as plt\n",
        "\n",
        "# sns.countplot(y)  # y adalah kolom target Anda\n",
        "# plt.title(\"Distribusi Kelas Target Sebelum Oversampling\")\n",
        "# plt.show()"
      ]
    },
    {
      "cell_type": "code",
      "execution_count": null,
      "metadata": {
        "id": "kgYBkFhCQv5a",
        "colab": {
          "base_uri": "https://localhost:8080/"
        },
        "outputId": "94cbdcea-c591-41fc-ff2d-8973dd3f9a19"
      },
      "outputs": [
        {
          "output_type": "stream",
          "name": "stdout",
          "text": [
            "Jumlah sampel sebelum oversampling: 1000\n",
            "Jumlah sampel setelah oversampling: 1000\n"
          ]
        }
      ],
      "source": [
        "# Contoh membandingkan jumlah sampel\n",
        "print(\"Jumlah sampel sebelum oversampling:\", len(y))\n",
        "print(\"Jumlah sampel setelah oversampling:\", len(y_resampled))"
      ]
    },
    {
      "cell_type": "code",
      "execution_count": null,
      "metadata": {
        "id": "DNR3xAZpP0u1",
        "colab": {
          "base_uri": "https://localhost:8080/",
          "height": 474
        },
        "outputId": "cd7b435e-ef4a-484b-c636-0901feab38be"
      },
      "outputs": [
        {
          "output_type": "display_data",
          "data": {
            "text/plain": [
              "<Figure size 640x480 with 1 Axes>"
            ],
            "image/png": "[encoded data removed]"
          },
          "metadata": {}
        }
      ],
      "source": [
        "import seaborn as sns\n",
        "import matplotlib.pyplot as plt\n",
        "\n",
        "# Visualisasi distribusi kelas target (Interest)\n",
        "sns.countplot(x='Interest', data=merged_data)\n",
        "plt.title('Distribusi Interest')\n",
        "plt.xlabel('Interest')\n",
        "plt.ylabel('Jumlah')\n",
        "plt.xticks(rotation=45, ha='right')\n",
        "plt.show()"
      ]
    },
    {
      "cell_type": "code",
      "execution_count": null,
      "metadata": {
        "id": "3d23kFCPIx7l",
        "colab": {
          "base_uri": "https://localhost:8080/",
          "height": 497
        },
        "outputId": "0f39df28-a1b2-45cb-ee71-06f97ea3e7f4"
      },
      "outputs": [
        {
          "output_type": "display_data",
          "data": {
            "text/plain": [
              "<Figure size 1200x600 with 1 Axes>"
            ],
            "image/png": "[encoded data removed]"
          },
          "metadata": {}
        }
      ],
      "source": [
        "plt.figure(figsize=(12, 6))\n",
        "sns.countplot(x='Salary Scale', hue='Interest', data=merged_data)\n",
        "plt.title('Distribusi Interest Berdasarkan Salary Scale')\n",
        "plt.xlabel('Salary Scale')\n",
        "plt.ylabel('Jumlah')\n",
        "plt.xticks(rotation=45, ha='right')  # Rotasi label sumbu x agar mudah dibaca\n",
        "plt.legend(title='Interest')\n",
        "plt.tight_layout()  # Menyesuaikan layout agar tidak terpotong\n",
        "plt.show()"
      ]
    },
    {
      "cell_type": "code",
      "execution_count": null,
      "metadata": {
        "id": "ShrMdCbEKrw6",
        "colab": {
          "base_uri": "https://localhost:8080/",
          "height": 564
        },
        "outputId": "3517132e-27cb-4b71-914b-278fcb8bad41"
      },
      "outputs": [
        {
          "output_type": "display_data",
          "data": {
            "text/plain": [
              "<Figure size 640x480 with 2 Axes>"
            ],
            "image/png": "[encoded data removed]"
          },
          "metadata": {}
        }
      ],
      "source": [
        "import seaborn as sns\n",
        "import matplotlib.pyplot as plt\n",
        "\n",
        "correlation_matrix = merged_data.corr()\n",
        "sns.heatmap(correlation_matrix, annot=True, cmap=\"coolwarm\")\n",
        "plt.title(\"Feature Correlation Heatmap\")\n",
        "plt.show()\n"
      ]
    },
    {
      "cell_type": "code",
      "execution_count": null,
      "metadata": {
        "id": "_QaTnMnDL9oa",
        "colab": {
          "base_uri": "https://localhost:8080/"
        },
        "outputId": "8f2f8a75-eade-4b3d-a6da-a03fbbefc5ed"
      },
      "outputs": [
        {
          "output_type": "stream",
          "name": "stdout",
          "text": [
            "                    participant_id  Introversion Score  Sensing Score  Thinking Score  Judging Score       Age    Gender  Education  Interest  Salary Scale\n",
            "participant_id            1.000000           -0.005794       0.016812        0.018246       0.031198  0.015298  0.039669  -0.030176  0.015055     -0.020440\n",
            "Introversion Score       -0.005794            1.000000       0.181327        0.000930      -0.230521  0.100060  0.069541   0.174974  0.001518     -0.006724\n",
            "Sensing Score             0.016812            0.181327       1.000000        0.007053      -0.045286  0.153270 -0.018303   0.045389  0.039975     -0.234892\n",
            "Thinking Score            0.018246            0.000930       0.007053        1.000000       0.012564 -0.025301  0.167486  -0.066141  0.075384     -0.029003\n",
            "Judging Score             0.031198           -0.230521      -0.045286        0.012564       1.000000 -0.064006  0.031853  -0.329143  0.057386     -0.629966\n",
            "Age                       0.015298            0.100060       0.153270       -0.025301      -0.064006  1.000000 -0.049295   0.004303  0.032975     -0.069458\n",
            "Gender                    0.039669            0.069541      -0.018303        0.167486       0.031853 -0.049295  1.000000  -0.021707 -0.028604     -0.024082\n",
            "Education                -0.030176            0.174974       0.045389       -0.066141      -0.329143  0.004303 -0.021707   1.000000 -0.065533      0.483787\n",
            "Interest                  0.015055            0.001518       0.039975        0.075384       0.057386  0.032975 -0.028604  -0.065533  1.000000     -0.140161\n",
            "Salary Scale             -0.020440           -0.006724      -0.234892       -0.029003      -0.629966 -0.069458 -0.024082   0.483787 -0.140161      1.000000\n"
          ]
        }
      ],
      "source": [
        "correlation_matrix = merged_data.corr()\n",
        "correlation_text = correlation_matrix.to_string()\n",
        "print(correlation_text)"
      ]
    },
    {
      "cell_type": "code",
      "execution_count": null,
      "metadata": {
        "id": "1tN03kVpMCUR"
      },
      "outputs": [],
      "source": [
        "# pip install tabulate"
      ]
    },
    {
      "cell_type": "code",
      "execution_count": null,
      "metadata": {
        "id": "8QOAPYz_MFhq",
        "colab": {
          "base_uri": "https://localhost:8080/"
        },
        "outputId": "19729bb9-fb0e-4a9e-ff29-3bb9f7c601b8"
      },
      "outputs": [
        {
          "output_type": "stream",
          "name": "stdout",
          "text": [
            "+--------------------+------------------+----------------------+-----------------+------------------+-----------------+-------------+------------+-------------+-------------+----------------+\n",
            "|                    |   participant_id |   Introversion Score |   Sensing Score |   Thinking Score |   Judging Score |         Age |     Gender |   Education |    Interest |   Salary Scale |\n",
            "|--------------------+------------------+----------------------+-----------------+------------------+-----------------+-------------+------------+-------------+-------------+----------------|\n",
            "| participant_id     |       1          |         -0.00579407  |       0.0168117 |      0.0182458   |       0.0311984 |  0.0152978  |  0.0396694 | -0.0301764  |  0.0150546  |    -0.0204399  |\n",
            "| Introversion Score |      -0.00579407 |          1           |       0.181327  |      0.000930303 |      -0.230521  |  0.10006    |  0.0695412 |  0.174974   |  0.00151814 |    -0.00672384 |\n",
            "| Sensing Score      |       0.0168117  |          0.181327    |       1         |      0.007053    |      -0.0452863 |  0.15327    | -0.0183026 |  0.0453886  |  0.0399749  |    -0.234892   |\n",
            "| Thinking Score     |       0.0182458  |          0.000930303 |       0.007053  |      1           |       0.0125644 | -0.0253012  |  0.167486  | -0.0661411  |  0.0753841  |    -0.0290033  |\n",
            "| Judging Score      |       0.0311984  |         -0.230521    |      -0.0452863 |      0.0125644   |       1         | -0.0640059  |  0.0318535 | -0.329143   |  0.057386   |    -0.629966   |\n",
            "| Age                |       0.0152978  |          0.10006     |       0.15327   |     -0.0253012   |      -0.0640059 |  1          | -0.0492953 |  0.00430329 |  0.0329749  |    -0.0694576  |\n",
            "| Gender             |       0.0396694  |          0.0695412   |      -0.0183026 |      0.167486    |       0.0318535 | -0.0492953  |  1         | -0.0217066  | -0.028604   |    -0.0240822  |\n",
            "| Education          |      -0.0301764  |          0.174974    |       0.0453886 |     -0.0661411   |      -0.329143  |  0.00430329 | -0.0217066 |  1          | -0.0655333  |     0.483787   |\n",
            "| Interest           |       0.0150546  |          0.00151814  |       0.0399749 |      0.0753841   |       0.057386  |  0.0329749  | -0.028604  | -0.0655333  |  1          |    -0.140161   |\n",
            "| Salary Scale       |      -0.0204399  |         -0.00672384  |      -0.234892  |     -0.0290033   |      -0.629966  | -0.0694576  | -0.0240822 |  0.483787   | -0.140161   |     1          |\n",
            "+--------------------+------------------+----------------------+-----------------+------------------+-----------------+-------------+------------+-------------+-------------+----------------+\n"
          ]
        }
      ],
      "source": [
        "from tabulate import tabulate\n",
        "\n",
        "correlation_matrix = merged_data.corr()\n",
        "correlation_table = tabulate(correlation_matrix, headers='keys', tablefmt='psql')\n",
        "print(correlation_table)"
      ]
    },
    {
      "cell_type": "code",
      "execution_count": null,
      "metadata": {
        "id": "rN32wb1m9Lmx"
      },
      "outputs": [],
      "source": [
        "from sklearn.model_selection import train_test_split\n",
        "\n",
        "X_train, X_test, y_train, y_test = train_test_split(X, y, test_size=0.25, random_state=42)"
      ]
    },
    {
      "cell_type": "code",
      "execution_count": null,
      "metadata": {
        "id": "WgBVBR_y9NAD"
      },
      "outputs": [],
      "source": [
        "from sklearn.preprocessing import StandardScaler\n",
        "\n",
        "scaler = StandardScaler()\n",
        "X_train = scaler.fit_transform(X_train)\n",
        "X_test = scaler.transform(X_test)"
      ]
    },
    {
      "cell_type": "code",
      "execution_count": null,
      "metadata": {
        "id": "jVcectr3FYFp",
        "colab": {
          "base_uri": "https://localhost:8080/"
        },
        "outputId": "32e86e50-7aa2-4743-f3b1-902a5d104c11"
      },
      "outputs": [
        {
          "output_type": "stream",
          "name": "stdout",
          "text": [
            "k=1, accuracy=0.74\n",
            "k=2, accuracy=0.756\n",
            "k=3, accuracy=0.76\n",
            "k=4, accuracy=0.76\n",
            "k=5, accuracy=0.776\n",
            "k=6, accuracy=0.772\n",
            "k=7, accuracy=0.78\n",
            "k=8, accuracy=0.78\n",
            "k=9, accuracy=0.78\n",
            "k=10, accuracy=0.78\n",
            "k=11, accuracy=0.788\n",
            "k=12, accuracy=0.784\n",
            "k=13, accuracy=0.788\n",
            "k=14, accuracy=0.788\n",
            "k=15, accuracy=0.8\n",
            "k=16, accuracy=0.792\n",
            "k=17, accuracy=0.796\n",
            "k=18, accuracy=0.772\n",
            "k=19, accuracy=0.772\n",
            "k=20, accuracy=0.78\n",
            "k=21, accuracy=0.78\n",
            "k=22, accuracy=0.76\n",
            "k=23, accuracy=0.772\n",
            "k=24, accuracy=0.748\n",
            "k=25, accuracy=0.772\n",
            "k=26, accuracy=0.76\n",
            "k=27, accuracy=0.756\n",
            "k=28, accuracy=0.756\n",
            "k=29, accuracy=0.764\n",
            "k=30, accuracy=0.76\n",
            "k=31, accuracy=0.756\n",
            "k=32, accuracy=0.752\n",
            "k=33, accuracy=0.748\n",
            "k=34, accuracy=0.744\n",
            "k=35, accuracy=0.74\n",
            "k=36, accuracy=0.752\n",
            "k=37, accuracy=0.76\n",
            "k=38, accuracy=0.764\n",
            "k=39, accuracy=0.764\n",
            "k=40, accuracy=0.756\n",
            "k=41, accuracy=0.744\n",
            "k=42, accuracy=0.752\n",
            "k=43, accuracy=0.76\n",
            "k=44, accuracy=0.748\n",
            "k=45, accuracy=0.752\n",
            "k=46, accuracy=0.744\n",
            "k=47, accuracy=0.756\n",
            "k=48, accuracy=0.752\n",
            "k=49, accuracy=0.748\n"
          ]
        }
      ],
      "source": [
        "from sklearn.neighbors import KNeighborsClassifier\n",
        "from sklearn.metrics import accuracy_score\n",
        "\n",
        "k_values = range(1, 50)  # Rentang nilai n yang ingin diuji\n",
        "accuracies = []\n",
        "\n",
        "for k in k_values:\n",
        "    knn = KNeighborsClassifier(n_neighbors=k)\n",
        "    knn.fit(X_train, y_train)\n",
        "    y_pred = knn.predict(X_test)\n",
        "    accuracy = accuracy_score(y_test, y_pred)\n",
        "    accuracies.append(accuracy)\n",
        "\n",
        "# Menampilkan akurasi untuk setiap nilai k\n",
        "for k, accuracy in zip(k_values, accuracies):\n",
        "    print(f\"k={k}, accuracy={accuracy}\")"
      ]
    },
    {
      "cell_type": "code",
      "execution_count": null,
      "metadata": {
        "id": "JJmIrv6wFfUF",
        "colab": {
          "base_uri": "https://localhost:8080/"
        },
        "outputId": "7c1e0dcd-3099-466e-f37f-c9496773bd84"
      },
      "outputs": [
        {
          "output_type": "stream",
          "name": "stdout",
          "text": [
            "Nilai k optimal: 15\n"
          ]
        }
      ],
      "source": [
        "optimal_k = k_values[accuracies.index(max(accuracies))]\n",
        "print(f\"Nilai k optimal: {optimal_k}\")"
      ]
    },
    {
      "cell_type": "code",
      "execution_count": null,
      "metadata": {
        "id": "cEgoVkyv9Ovt"
      },
      "outputs": [],
      "source": [
        "from sklearn.neighbors import KNeighborsClassifier\n",
        "from sklearn.metrics import accuracy_score\n",
        "\n",
        "# Latih model KNN\n",
        "knn = KNeighborsClassifier(n_neighbors=optimal_k)\n",
        "knn.fit(X_train, y_train)\n",
        "\n",
        "# Prediksi data testing\n",
        "y_pred_knn = knn.predict(X_test)"
      ]
    },
    {
      "cell_type": "code",
      "source": [
        "from sklearn.model_selection import cross_val_score\n",
        "\n",
        "# Lakukan cross-validation dengan 5 fold (dapat diubah sesuai kebutuhan)\n",
        "cv_scores = cross_val_score(knn, X, y, cv=5)  # X dan y adalah fitur dan target Anda\n",
        "\n",
        "# Tampilkan hasil cross-validation\n",
        "print(\"Cross-Validation Scores:\", cv_scores)\n",
        "print(\"Mean Accuracy:\", cv_scores.mean())"
      ],
      "metadata": {
        "colab": {
          "base_uri": "https://localhost:8080/"
        },
        "id": "L-9t5W3dLjq8",
        "outputId": "1ac1a50d-494c-429d-ad81-be6bcc5941d3"
      },
      "execution_count": null,
      "outputs": [
        {
          "output_type": "stream",
          "name": "stdout",
          "text": [
            "Cross-Validation Scores: [0.685 0.74  0.715 0.7   0.74 ]\n",
            "Mean Accuracy: 0.716\n"
          ]
        }
      ]
    },
    {
      "cell_type": "code",
      "execution_count": null,
      "metadata": {
        "id": "BqafL1SYR055",
        "colab": {
          "base_uri": "https://localhost:8080/"
        },
        "outputId": "1c7b3dfe-6be6-4284-c18a-3b94f1d14730"
      },
      "outputs": [
        {
          "output_type": "stream",
          "name": "stdout",
          "text": [
            "              Feature       Score\n",
            "1       Sensing Score  296.270789\n",
            "0  Introversion Score  290.516563\n",
            "3       Judging Score  288.626064\n",
            "6           Education  107.689779\n",
            "4                 Age   17.021971\n",
            "7            Interest    5.586917\n",
            "5              Gender    1.966212\n",
            "2      Thinking Score    0.814660\n"
          ]
        },
        {
          "output_type": "stream",
          "name": "stderr",
          "text": [
            "/usr/local/lib/python3.10/dist-packages/sklearn/feature_selection/_univariate_selection.py:779: UserWarning: k=35 is greater than n_features=8. All the features will be returned.\n",
            "  warnings.warn(\n"
          ]
        }
      ],
      "source": [
        "from sklearn.feature_selection import SelectKBest, f_classif\n",
        "\n",
        "# Pilih 5 fitur terbaik\n",
        "selector = SelectKBest(score_func=f_classif, k=35)\n",
        "X_selected = selector.fit_transform(X, y)\n",
        "\n",
        "# Tampilkan skor fitur\n",
        "feature_scores = pd.DataFrame({'Feature': X.columns, 'Score': selector.scores_})\n",
        "print(feature_scores.sort_values(by='Score', ascending=False))\n"
      ]
    },
    {
      "cell_type": "code",
      "execution_count": null,
      "metadata": {
        "id": "mXEbmw-VOnKT",
        "colab": {
          "base_uri": "https://localhost:8080/"
        },
        "outputId": "08aefc3b-72db-4810-bc28-6d6984c88169"
      },
      "outputs": [
        {
          "output_type": "stream",
          "name": "stdout",
          "text": [
            "              Feature       Score\n",
            "1       Sensing Score  296.270789\n",
            "0  Introversion Score  290.516563\n",
            "3       Judging Score  288.626064\n",
            "6           Education  107.689779\n",
            "4                 Age   17.021971\n",
            "7            Interest    5.586917\n",
            "5              Gender    1.966212\n",
            "2      Thinking Score    0.814660\n"
          ]
        }
      ],
      "source": [
        "from sklearn.feature_selection import SelectKBest, f_classif\n",
        "\n",
        "selector = SelectKBest(score_func=f_classif, k=5)\n",
        "X_selected = selector.fit_transform(X, y)\n",
        "\n",
        "feature_scores = pd.DataFrame({'Feature': X.columns, 'Score': selector.scores_})\n",
        "print(feature_scores.sort_values(by='Score', ascending=False))\n"
      ]
    },
    {
      "cell_type": "code",
      "execution_count": null,
      "metadata": {
        "id": "cHOo8nmOLd_c",
        "colab": {
          "base_uri": "https://localhost:8080/"
        },
        "outputId": "b673cfaa-3a6b-4ddb-9673-e849f11e3932"
      },
      "outputs": [
        {
          "output_type": "stream",
          "name": "stdout",
          "text": [
            "Accuracy: 0.8\n",
            "\n",
            "Chi-square score: 539.6585160890052\n",
            "P-value: 1.3842246434881888e-104\n",
            "\n",
            "Chi-square score: 539.6585160890052\n",
            "P-value: 1.3842246434881888e-104\n",
            "P-value: 0.00000\n",
            "P-value: 1.38422e-104\n",
            "P-value: 0.00000\n",
            "P-value: 1.38422e-104\n",
            "P-value: 1.384224643488188786533645444662037304998971543026095409906251861079933978321165121512018066315375865130164326685091672735391302026047200153907886886486442761769541922110228323397383890534074259700129956925125518865208872444708759062295485261252128746513150037156236749069648794829845428466796875E-104\n"
          ]
        }
      ],
      "source": [
        "from sklearn.metrics import accuracy_score, confusion_matrix\n",
        "from scipy.stats import chi2_contingency\n",
        "\n",
        "# Prediksi menggunakan model KNN\n",
        "y_pred_knn = knn.predict(X_test)\n",
        "\n",
        "# Evaluasi model\n",
        "accuracy = accuracy_score(y_test, y_pred_knn)\n",
        "print(\"Accuracy:\", accuracy)\n",
        "\n",
        "# Hitung confusion matrix\n",
        "conf_matrix = confusion_matrix(y_test, y_pred_knn)\n",
        "\n",
        "# Add a pseudocount (e.g., 1) to all cells of the confusion matrix\n",
        "conf_matrix = conf_matrix + 1\n",
        "\n",
        "# Hitung chi-square score dan p-value\n",
        "chi2, p, dof, expected = chi2_contingency(conf_matrix)\n",
        "\n",
        "# Tampilkan hasilnya\n",
        "print(\"\\nChi-square score:\", chi2)\n",
        "print(\"P-value:\", p)\n",
        "\n",
        "print(\"\\nChi-square score:\", chi2)\n",
        "print(\"P-value:\", p)\n",
        "print(f\"P-value: {p:.5f}\")\n",
        "print(f\"P-value: {p:.5e}\")\n",
        "\n",
        "print(\"P-value: {}\".format(format(p, '.5f')))  # Desimal\n",
        "print(\"P-value: {}\".format(format(p, '.5e')))  # Scientific notation\n",
        "\n",
        "from decimal import Decimal\n",
        "\n",
        "print(\"P-value: {}\".format(Decimal(p)))"
      ]
    },
    {
      "cell_type": "code",
      "execution_count": null,
      "metadata": {
        "id": "GFhjTq8xNXl0",
        "colab": {
          "base_uri": "https://localhost:8080/"
        },
        "outputId": "1b6324eb-0dbd-47bf-bc6f-cca87f5ec266"
      },
      "outputs": [
        {
          "output_type": "stream",
          "name": "stdout",
          "text": [
            "\n",
            "Chi-square score: 539.6585160890052\n",
            "P-value: 0.000000000000000\n",
            "P-value: 1.3842246435e-104\n",
            "P-value (Decimal): 1.384224643488188786533645444662037304998971543026095409906251861079933978321165121512018066315375865130164326685091672735391302026047200153907886886486442761769541922110228323397383890534074259700129956925125518865208872444708759062295485261252128746513150037156236749069648794829845428466796875E-104\n",
            "Log P-value: -239.14370951269777\n"
          ]
        }
      ],
      "source": [
        "from sklearn.metrics import accuracy_score, confusion_matrix\n",
        "from scipy.stats import chi2_contingency\n",
        "from decimal import Decimal, getcontext\n",
        "import math\n",
        "import numpy as np\n",
        "\n",
        "# ... (kode sebelumnya)\n",
        "\n",
        "# Hitung chi-square score dan p-value\n",
        "chi2, p, dof, expected = chi2_contingency(conf_matrix)\n",
        "\n",
        "# Tampilkan hasilnya\n",
        "print(\"\\nChi-square score:\", chi2)\n",
        "\n",
        "# Mencoba menampilkan p-value dengan presisi lebih tinggi\n",
        "print(f\"P-value: {p:.15f}\")\n",
        "print(f\"P-value: {p:.10e}\")\n",
        "\n",
        "# Mencoba menggunakan Decimal dengan presisi tinggi\n",
        "getcontext().prec = 50\n",
        "print(\"P-value (Decimal): {}\".format(Decimal(p)))\n",
        "\n",
        "# Menampilkan logaritma p-value, handle p=0 case\n",
        "# If p is 0, replace it with a very small positive number to avoid the error\n",
        "# np.finfo(float).eps is the smallest positive number representable in float64\n",
        "if p == 0:\n",
        "    p = np.finfo(float).eps\n",
        "print(f\"Log P-value: {math.log(p)}\")\n",
        "\n",
        "# ... (kode selanjutnya)"
      ]
    },
    {
      "cell_type": "code",
      "execution_count": null,
      "metadata": {
        "id": "lInfptoH9SGb",
        "colab": {
          "base_uri": "https://localhost:8080/"
        },
        "outputId": "5b70bf72-73ab-4d24-a803-ed42d6869f8f"
      },
      "outputs": [
        {
          "output_type": "stream",
          "name": "stdout",
          "text": [
            "KNN Accuracy: 0.8\n",
            "KNN Confusion Matrix:\n",
            " [[45  0  1  0  0]\n",
            " [11 40  7  0  0]\n",
            " [ 3  1 43  0  0]\n",
            " [ 6  0  1 37  0]\n",
            " [ 2  8  2  8 35]]\n",
            "KNN Classification Report:\n",
            "               precision    recall  f1-score   support\n",
            "\n",
            "           0       0.67      0.98      0.80        46\n",
            "           1       0.82      0.69      0.75        58\n",
            "           2       0.80      0.91      0.85        47\n",
            "           3       0.82      0.84      0.83        44\n",
            "           4       1.00      0.64      0.78        55\n",
            "\n",
            "    accuracy                           0.80       250\n",
            "   macro avg       0.82      0.81      0.80       250\n",
            "weighted avg       0.83      0.80      0.80       250\n",
            "\n"
          ]
        }
      ],
      "source": [
        "from sklearn.metrics import accuracy_score, confusion_matrix, classification_report\n",
        "\n",
        "print(\"KNN Accuracy:\", accuracy_score(y_test, y_pred_knn))\n",
        "print(\"KNN Confusion Matrix:\\n\", confusion_matrix(y_test, y_pred_knn))\n",
        "print(\"KNN Classification Report:\\n\", classification_report(y_test, y_pred_knn))"
      ]
    },
    {
      "cell_type": "code",
      "execution_count": null,
      "metadata": {
        "id": "nJhpDSYn9QdX"
      },
      "outputs": [],
      "source": [
        "from sklearn.ensemble import RandomForestClassifier\n",
        "\n",
        "# Latih model Random Forest\n",
        "rf = RandomForestClassifier(random_state=42, n_estimators=250, max_depth = 20, max_features='sqrt', min_samples_split=2, min_samples_leaf=1)\n",
        "rf.fit(X_train, y_train)\n",
        "\n",
        "# Prediksi data testing\n",
        "y_pred_rf = rf.predict(X_test)"
      ]
    },
    {
      "cell_type": "code",
      "execution_count": null,
      "metadata": {
        "id": "uOdioG3H9ToB",
        "colab": {
          "base_uri": "https://localhost:8080/"
        },
        "outputId": "c9d832cd-345b-478f-d0b4-75a5c6e1d1b8"
      },
      "outputs": [
        {
          "output_type": "stream",
          "name": "stdout",
          "text": [
            "Random Forest Accuracy: 0.94\n",
            "Random Forest Confusion Matrix:\n",
            " [[44  0  1  1  0]\n",
            " [ 0 53  5  0  0]\n",
            " [ 0  6 41  0  0]\n",
            " [ 0  0  0 44  0]\n",
            " [ 0  0  0  2 53]]\n",
            "Random Forest Classification Report:\n",
            "               precision    recall  f1-score   support\n",
            "\n",
            "           0       1.00      0.96      0.98        46\n",
            "           1       0.90      0.91      0.91        58\n",
            "           2       0.87      0.87      0.87        47\n",
            "           3       0.94      1.00      0.97        44\n",
            "           4       1.00      0.96      0.98        55\n",
            "\n",
            "    accuracy                           0.94       250\n",
            "   macro avg       0.94      0.94      0.94       250\n",
            "weighted avg       0.94      0.94      0.94       250\n",
            "\n"
          ]
        }
      ],
      "source": [
        "print(\"Random Forest Accuracy:\", accuracy_score(y_test, y_pred_rf))\n",
        "print(\"Random Forest Confusion Matrix:\\n\", confusion_matrix(y_test, y_pred_rf))\n",
        "print(\"Random Forest Classification Report:\\n\", classification_report(y_test, y_pred_rf))"
      ]
    },
    {
      "cell_type": "code",
      "source": [
        "from sklearn.model_selection import cross_val_score\n",
        "from sklearn.ensemble import RandomForestClassifier\n",
        "\n",
        "# Lakukan cross-validation dengan 5 fold (dapat diubah sesuai kebutuhan)\n",
        "cv_scores = cross_val_score(rf, X, y, cv=5)  # X dan y adalah fitur dan target Anda\n",
        "\n",
        "# Tampilkan hasil cross-validation\n",
        "print(\"Cross-Validation Scores:\", cv_scores)\n",
        "print(\"Mean Accuracy:\", cv_scores.mean())"
      ],
      "metadata": {
        "colab": {
          "base_uri": "https://localhost:8080/"
        },
        "id": "zsAKJ9V1MAxS",
        "outputId": "82a27976-258f-4eaf-e431-fa50ec5751fe"
      },
      "execution_count": null,
      "outputs": [
        {
          "output_type": "stream",
          "name": "stdout",
          "text": [
            "Cross-Validation Scores: [0.945 0.9   0.92  0.885 0.93 ]\n",
            "Mean Accuracy: 0.916\n"
          ]
        }
      ]
    },
    {
      "cell_type": "code",
      "execution_count": null,
      "metadata": {
        "id": "RPsPA-vaTAmT",
        "colab": {
          "base_uri": "https://localhost:8080/"
        },
        "outputId": "61d22058-b2c0-4f5b-e601-c667a798df82"
      },
      "outputs": [
        {
          "output_type": "stream",
          "name": "stdout",
          "text": [
            "Best parameters for KNN: {'n_neighbors': 15, 'weights': 'distance'}\n",
            "Best parameters for Random Forest: {'max_depth': 10, 'n_estimators': 250}\n"
          ]
        }
      ],
      "source": [
        "from sklearn.model_selection import GridSearchCV\n",
        "\n",
        "# Parameter untuk KNN\n",
        "param_grid_knn = {'n_neighbors': [3, 15, 46], 'weights': ['uniform', 'distance']}\n",
        "grid_knn = GridSearchCV(KNeighborsClassifier(), param_grid_knn, cv=5)\n",
        "grid_knn.fit(X_train, y_train)\n",
        "\n",
        "print(\"Best parameters for KNN:\", grid_knn.best_params_)\n",
        "\n",
        "# Parameter untuk Random Forest\n",
        "param_grid_rf = {'n_estimators': [100, 200, 250], 'max_depth': [10, 20, None]}\n",
        "grid_rf = GridSearchCV(RandomForestClassifier(random_state=42), param_grid_rf, cv=5)\n",
        "grid_rf.fit(X_train, y_train)\n",
        "\n",
        "print(\"Best parameters for Random Forest:\", grid_rf.best_params_)\n"
      ]
    },
    {
      "cell_type": "code",
      "execution_count": null,
      "metadata": {
        "id": "vn37oE8bPSwr"
      },
      "outputs": [],
      "source": [
        "# from sklearn.ensemble import RandomForestClassifier\n",
        "# from sklearn.model_selection import GridSearchCV\n",
        "\n",
        "# # Definisikan grid parameter yang akan dicoba\n",
        "# param_grid = {\n",
        "#     'n_estimators': [10, 100, 200],\n",
        "#     'max_depth': [None, 10, 20, 30],\n",
        "#     'min_samples_split': [2, 5, 10],\n",
        "#     'min_samples_leaf': [1, 2, 4],\n",
        "#     'max_features': ['auto', 'sqrt', 'log2']\n",
        "# }\n",
        "\n",
        "# # Buat objek GridSearchCV\n",
        "# grid_search = GridSearchCV(estimator=rf, param_grid=param_grid, cv=5, scoring='accuracy', n_jobs=-1)\n",
        "\n",
        "# # Latih model dengan Grid Search\n",
        "# grid_search.fit(X_train, y_train)  # Ganti X_train dan y_train dengan data Anda\n",
        "\n",
        "# # Tampilkan parameter terbaik\n",
        "# print(\"Parameter terbaik:\", grid_search.best_params_)\n",
        "\n",
        "# # Gunakan model terbaik untuk prediksi\n",
        "# best_rf_model = grid_search.best_estimator_\n",
        "# y_pred = best_rf_model.predict(X_test)  # Ganti X_test dengan data testing Anda\n",
        "\n",
        "# # Evaluasi model (opsional)\n",
        "# # ... (kode evaluasi model, seperti accuracy, confusion matrix, dll.)"
      ]
    },
    {
      "cell_type": "code",
      "execution_count": null,
      "metadata": {
        "id": "Q6iWohEXIByr",
        "colab": {
          "base_uri": "https://localhost:8080/"
        },
        "outputId": "f4cdc934-33f9-471f-e49e-3b0413a24fef"
      },
      "outputs": [
        {
          "output_type": "stream",
          "name": "stdout",
          "text": [
            "Accuracy: 0.94\n",
            "\n",
            "Chi-square score: 865.6992147483467\n",
            "P-value: 5.953834731666159e-174\n",
            "P-value: 0.00000\n",
            "P-value: 5.95383e-174\n",
            "P-value: 0.00000\n",
            "P-value: 5.95383e-174\n",
            "P-value: 5.9538347316661593189953781099959869721365912062046931959337473055459249840486572021270972246391574545854909530184054577030093540675274827158779416098504338064066788415118027191729481623934809367970890975795981637720554587947317743736125291314830040682177599236446643330214579238234041490925013607892023383440300744673556692603188860979540416267520212133593548157650720549895296758923258138342439272125776380598636584873251109684133552946150302886962890625E-174\n"
          ]
        }
      ],
      "source": [
        "from sklearn.metrics import accuracy_score\n",
        "from scipy.stats import chi2_contingency # Import chi2_contingency from scipy.stats\n",
        "\n",
        "# Make predictions using the best model from GridSearchCV\n",
        "y_pred = rf.predict(X_test)  # Changed rf to best_rf_model\n",
        "\n",
        "# Evaluate the model\n",
        "print(\"Accuracy:\", accuracy_score(y_test, y_pred))\n",
        "\n",
        "# Hitung confusion matrix\n",
        "conf_matrix = confusion_matrix(y_test, y_pred)\n",
        "\n",
        "# Hitung chi-square score dan p-value\n",
        "chi2, p, dof, expected = chi2_contingency(conf_matrix)\n",
        "\n",
        "# Tampilkan hasilnya\n",
        "print(\"\\nChi-square score:\", chi2)\n",
        "print(\"P-value:\", p)\n",
        "print(f\"P-value: {p:.5f}\")\n",
        "print(f\"P-value: {p:.5e}\")\n",
        "\n",
        "print(\"P-value: {}\".format(format(p, '.5f')))  # Desimal\n",
        "print(\"P-value: {}\".format(format(p, '.5e')))  # Scientific notation\n",
        "\n",
        "from decimal import Decimal\n",
        "\n",
        "print(\"P-value: {}\".format(Decimal(p)))"
      ]
    },
    {
      "cell_type": "code",
      "execution_count": null,
      "metadata": {
        "id": "FvXAyCebdzsu",
        "colab": {
          "base_uri": "https://localhost:8080/"
        },
        "outputId": "5e0e790c-b8bc-42d5-d2ad-17738c70fd5b"
      },
      "outputs": [
        {
          "output_type": "stream",
          "name": "stdout",
          "text": [
            "Cross-Validation Scores: [0.945 0.9   0.92  0.885 0.93 ]\n",
            "Mean Accuracy: 0.916\n"
          ]
        }
      ],
      "source": [
        "from sklearn.model_selection import cross_val_score\n",
        "\n",
        "cv_scores = cross_val_score(rf, X, y, cv=5)\n",
        "print(\"Cross-Validation Scores:\", cv_scores)\n",
        "print(\"Mean Accuracy:\", cv_scores.mean())\n"
      ]
    },
    {
      "cell_type": "code",
      "execution_count": null,
      "metadata": {
        "id": "ydLdRQSCM0Z8",
        "colab": {
          "base_uri": "https://localhost:8080/"
        },
        "outputId": "4bd83e93-c1ce-478d-9846-e355ba6a00b2"
      },
      "outputs": [
        {
          "output_type": "stream",
          "name": "stdout",
          "text": [
            "\n",
            "Chi-square score: 865.6992147483467\n",
            "P-value: 0.000000000000000\n",
            "P-value: 5.9538347317e-174\n",
            "P-value (Decimal): 5.9538347316661593189953781099959869721365912062046931959337473055459249840486572021270972246391574545854909530184054577030093540675274827158779416098504338064066788415118027191729481623934809367970890975795981637720554587947317743736125291314830040682177599236446643330214579238234041490925013607892023383440300744673556692603188860979540416267520212133593548157650720549895296758923258138342439272125776380598636584873251109684133552946150302886962890625E-174\n",
            "Log P-value: -398.86577067628565\n"
          ]
        }
      ],
      "source": [
        "from sklearn.metrics import accuracy_score, confusion_matrix\n",
        "from scipy.stats import chi2_contingency\n",
        "from decimal import Decimal, getcontext\n",
        "import math\n",
        "import numpy as np\n",
        "\n",
        "# Hitung chi-square score dan p-value\n",
        "chi2, p, dof, expected = chi2_contingency(conf_matrix)\n",
        "\n",
        "# Tampilkan hasilnya\n",
        "print(\"\\nChi-square score:\", chi2)\n",
        "\n",
        "# Mencoba menampilkan p-value dengan presisi lebih tinggi\n",
        "print(f\"P-value: {p:.15f}\")\n",
        "print(f\"P-value: {p:.10e}\")\n",
        "\n",
        "# Mencoba menggunakan Decimal dengan presisi tinggi\n",
        "getcontext().prec = 50\n",
        "print(\"P-value (Decimal): {}\".format(Decimal(p)))\n",
        "\n",
        "# Menampilkan logaritma p-value, handle p=0 case\n",
        "# If p is 0, replace it with a very small positive number to avoid the error\n",
        "# np.finfo(float).eps is the smallest positive number representable in float64\n",
        "if p == 0:\n",
        "    p = np.finfo(float).eps\n",
        "print(f\"Log P-value: {math.log(p)}\")\n",
        "\n",
        "# ... (kode selanjutnya)"
      ]
    },
    {
      "cell_type": "code",
      "execution_count": null,
      "metadata": {
        "id": "wmwlzkNBCN1r",
        "colab": {
          "base_uri": "https://localhost:8080/"
        },
        "outputId": "2f3817b7-e5a6-4dbc-c155-abf09d7104d4"
      },
      "outputs": [
        {
          "output_type": "stream",
          "name": "stdout",
          "text": [
            "Salary Scale        0  1  2  3  4\n",
            "Introversion Score               \n",
            "0.01939             0  0  1  0  0\n",
            "0.02064             0  0  1  0  0\n",
            "0.04953             0  0  1  0  0\n",
            "0.08670             0  0  1  0  0\n",
            "0.09490             0  0  1  0  0\n",
            "...                .. .. .. .. ..\n",
            "9.93512             0  0  0  0  1\n",
            "9.93739             0  0  0  0  1\n",
            "9.97427             0  1  0  0  0\n",
            "9.98457             0  0  0  1  0\n",
            "9.98520             0  0  0  1  0\n",
            "\n",
            "[1000 rows x 5 columns]\n",
            "Salary Scale   0  1  2  3  4\n",
            "Judging Score               \n",
            "0.000272       0  0  0  1  1\n",
            "0.101775       0  0  0  1  0\n",
            "0.266676       0  0  0  1  0\n",
            "0.519149       0  0  0  0  1\n",
            "0.542036       0  0  0  1  0\n",
            "...           .. .. .. .. ..\n",
            "8.409129       0  0  1  0  0\n",
            "8.463157       0  1  0  0  0\n",
            "8.518731       0  0  1  0  0\n",
            "8.614665       0  0  1  0  0\n",
            "9.018063       0  0  1  0  0\n",
            "\n",
            "[999 rows x 5 columns]\n",
            "Chi-square statistic: 3995.000000000001\n",
            "P-value: 0.483637244608604\n",
            "Degrees of freedom: 3992\n",
            "Expected frequencies:\n",
            " [[0.4 0.4 0.4 0.4 0.4]\n",
            " [0.2 0.2 0.2 0.2 0.2]\n",
            " [0.2 0.2 0.2 0.2 0.2]\n",
            " ...\n",
            " [0.2 0.2 0.2 0.2 0.2]\n",
            " [0.2 0.2 0.2 0.2 0.2]\n",
            " [0.2 0.2 0.2 0.2 0.2]]\n"
          ]
        }
      ],
      "source": [
        "contingency_table = pd.crosstab(merged_data['Introversion Score'], merged_data['Salary Scale'])\n",
        "print(contingency_table)\n",
        "\n",
        "contingency_table = pd.crosstab(merged_data['Judging Score'], merged_data['Salary Scale'])\n",
        "print(contingency_table)\n",
        "\n",
        "from scipy.stats import chi2_contingency\n",
        "\n",
        "chi2, p, dof, expected = chi2_contingency(contingency_table)\n",
        "\n",
        "print(\"Chi-square statistic:\", chi2)\n",
        "print(\"P-value:\", p)\n",
        "print(\"Degrees of freedom:\", dof)\n",
        "print(\"Expected frequencies:\\n\", expected)"
      ]
    },
    {
      "cell_type": "code",
      "execution_count": null,
      "metadata": {
        "id": "4Fy3eRES9VaH",
        "colab": {
          "base_uri": "https://localhost:8080/",
          "height": 927
        },
        "outputId": "48349326-da85-408c-ae2b-1a08fd24ef85"
      },
      "outputs": [
        {
          "output_type": "display_data",
          "data": {
            "text/plain": [
              "<Figure size 640x480 with 2 Axes>"
            ],
            "image/png": "[encoded data removed]"
          },
          "metadata": {}
        },
        {
          "output_type": "display_data",
          "data": {
            "text/plain": [
              "<Figure size 640x480 with 2 Axes>"
            ],
            "image/png": "[encoded data removed]"
          },
          "metadata": {}
        }
      ],
      "source": [
        "import seaborn as sns\n",
        "import matplotlib.pyplot as plt\n",
        "\n",
        "# Confusion matrix untuk KNN\n",
        "cm_knn = confusion_matrix(y_test, y_pred_knn)\n",
        "sns.heatmap(cm_knn, annot=True, fmt=\"d\", cmap=\"Blues\")\n",
        "plt.title(\"Confusion Matrix - KNN\")\n",
        "plt.xlabel(\"Predicted\")\n",
        "plt.ylabel(\"Actual\")\n",
        "plt.show()\n",
        "\n",
        "# Confusion matrix untuk Random Forest\n",
        "cm_rf = confusion_matrix(y_test, y_pred_rf)\n",
        "sns.heatmap(cm_rf, annot=True, fmt=\"d\", cmap=\"Greens\")\n",
        "plt.title(\"Confusion Matrix - Random Forest\")\n",
        "plt.xlabel(\"Predicted\")\n",
        "plt.ylabel(\"Actual\")\n",
        "plt.show()"
      ]
    },
    {
      "cell_type": "code",
      "execution_count": null,
      "metadata": {
        "id": "_sQ4xfwwNHmK",
        "colab": {
          "base_uri": "https://localhost:8080/",
          "height": 497
        },
        "outputId": "6817e62a-910c-4783-d66d-292bc17fd44a"
      },
      "outputs": [
        {
          "output_type": "display_data",
          "data": {
            "text/plain": [
              "<Figure size 1200x600 with 1 Axes>"
            ],
            "image/png": "[encoded data removed]"
          },
          "metadata": {}
        }
      ],
      "source": [
        "plt.figure(figsize=(12, 6))\n",
        "sns.countplot(x='Salary Scale', hue='Interest', data=merged_data)\n",
        "plt.title('Distribusi Interest Berdasarkan Salary Scale')\n",
        "plt.xlabel('Salary Scale')\n",
        "plt.ylabel('Jumlah')\n",
        "plt.xticks(rotation=45, ha='right')  # Rotasi label sumbu x agar mudah dibaca\n",
        "plt.legend(title='Interest')\n",
        "plt.tight_layout()  # Menyesuaikan layout agar tidak terpotong\n",
        "plt.show()"
      ]
    },
    {
      "cell_type": "code",
      "execution_count": null,
      "metadata": {
        "id": "c0sgM6rNdSsZ",
        "colab": {
          "base_uri": "https://localhost:8080/"
        },
        "outputId": "2adb9a34-f74e-40ad-b604-c80fd9f9c905"
      },
      "outputs": [
        {
          "output_type": "stream",
          "name": "stdout",
          "text": [
            "Interest\n",
            "0    403\n",
            "1    244\n",
            "2    182\n",
            "3    171\n",
            "Name: count, dtype: int64\n"
          ]
        }
      ],
      "source": [
        "print(merged_data['Interest'].value_counts())\n"
      ]
    },
    {
      "cell_type": "code",
      "execution_count": null,
      "metadata": {
        "id": "Zu1GUUPgdmd4",
        "colab": {
          "base_uri": "https://localhost:8080/",
          "height": 472
        },
        "outputId": "2cba3491-5e3a-4229-b4ab-9818fad3877c"
      },
      "outputs": [
        {
          "output_type": "display_data",
          "data": {
            "text/plain": [
              "<Figure size 640x480 with 2 Axes>"
            ],
            "image/png": "[encoded data removed]"
          },
          "metadata": {}
        }
      ],
      "source": [
        "sns.heatmap(confusion_matrix(y_test, y_pred_rf), annot=True, fmt=\"d\", cmap=\"Blues\")\n",
        "plt.title(\"Confusion Matrix\")\n",
        "plt.xlabel(\"Predicted\")\n",
        "plt.ylabel(\"Actual\")\n",
        "plt.show()\n"
      ]
    },
    {
      "cell_type": "code",
      "execution_count": null,
      "metadata": {
        "id": "-mY75a9IBzM7",
        "colab": {
          "base_uri": "https://localhost:8080/",
          "height": 472
        },
        "outputId": "3b53af9b-f74f-49c3-a73e-41d73b791301"
      },
      "outputs": [
        {
          "output_type": "display_data",
          "data": {
            "text/plain": [
              "<Figure size 640x480 with 1 Axes>"
            ],
            "image/png": "[encoded data removed]"
          },
          "metadata": {}
        }
      ],
      "source": [
        "# Visualisasi feature importance (jika model mendukungnya)\n",
        "feature_importances = rf.feature_importances_ # Contoh untuk Random Forest\n",
        "sns.barplot(x=feature_importances, y=X.columns) # X adalah fitur-fitur Anda\n",
        "plt.title('Feature Importance')\n",
        "plt.xlabel('Importance')\n",
        "plt.ylabel('Feature')\n",
        "plt.show()"
      ]
    },
    {
      "cell_type": "code",
      "execution_count": null,
      "metadata": {
        "id": "xrHGWUhNyWzy",
        "colab": {
          "base_uri": "https://localhost:8080/",
          "height": 607
        },
        "outputId": "0cd860f9-9307-418e-d513-f30bf8027bf0"
      },
      "outputs": [
        {
          "output_type": "display_data",
          "data": {
            "text/plain": [
              "<Figure size 1000x600 with 2 Axes>"
            ],
            "image/png": "[encoded data removed]"
          },
          "metadata": {}
        }
      ],
      "source": [
        "import seaborn as sns\n",
        "import matplotlib.pyplot as plt\n",
        "import pandas as pd\n",
        "\n",
        "# Menghitung jumlah data untuk setiap personality\n",
        "salary_scale_counts = merged_data['Salary Scale'].value_counts()\n",
        "\n",
        "# Membuat DataFrame untuk heatmap\n",
        "salary_scale_counts_df = pd.DataFrame({'Salary Scale': salary_scale_counts.index, 'Count': salary_scale_counts.values})\n",
        "\n",
        "# Membuat heatmap\n",
        "plt.figure(figsize=(10, 6))\n",
        "sns.heatmap(salary_scale_counts_df.pivot_table(index='Salary Scale', values='Count', aggfunc='sum'), annot=True, fmt=\"d\", cmap=\"YlGnBu\")\n",
        "plt.title('Jumlah Data untuk Setiap Salary Scale (Heatmap)')\n",
        "plt.xlabel('Salary Scale')\n",
        "plt.ylabel('') # Mengosongkan label sumbu y\n",
        "plt.xticks(rotation=45, ha='right')\n",
        "plt.tight_layout()\n",
        "plt.show()\n",
        "\n",
        "# # Heatmap Personality vs Salary Scale\n",
        "# heatmap_data = pd.crosstab(merged_data['Personality'])\n",
        "# sns.heatmap(heatmap_data, annot=True, fmt='d', cmap='YlGnBu')\n",
        "# plt.title('Personality vs Salary Scale')\n",
        "# plt.show()"
      ]
    },
    {
      "cell_type": "code",
      "source": [
        "from sklearn.naive_bayes import GaussianNB\n",
        "from sklearn.metrics import accuracy_score, classification_report, confusion_matrix\n",
        "\n",
        "# Penanganan Outliers (contoh capping)\n",
        "for column in X.columns:\n",
        "    upper_limit = X[column].quantile(0.95)  # Batas atas (persentil ke-95)\n",
        "    lower_limit = X[column].quantile(0.05)  # Batas bawah (persentil ke-5)\n",
        "    X[column] = np.clip(X[column], lower_limit, upper_limit)\n",
        "\n",
        "# Feature Scaling\n",
        "from sklearn.preprocessing import StandardScaler\n",
        "scaler = StandardScaler()\n",
        "X_train = scaler.fit_transform(X_train)\n",
        "X_test = scaler.transform(X_test)\n",
        "\n",
        "# Hyperparameter Tuning\n",
        "from sklearn.model_selection import GridSearchCV\n",
        "param_grid = {'var_smoothing': np.logspace(0,-9, num=100)}\n",
        "grid = GridSearchCV(GaussianNB(), param_grid, refit=True, verbose=3)\n",
        "grid.fit(X_train, y_train)\n",
        "print(grid.best_params_)"
      ],
      "metadata": {
        "id": "LS3Wz-_-fAAm",
        "colab": {
          "base_uri": "https://localhost:8080/"
        },
        "outputId": "f3cd1610-8044-46f9-b245-0d78ae78274a"
      },
      "execution_count": null,
      "outputs": [
        {
          "output_type": "stream",
          "name": "stderr",
          "text": [
            "<ipython-input-72-616af379d735>:8: SettingWithCopyWarning: \n",
            "A value is trying to be set on a copy of a slice from a DataFrame.\n",
            "Try using .loc[row_indexer,col_indexer] = value instead\n",
            "\n",
            "See the caveats in the documentation: https://pandas.pydata.org/pandas-docs/stable/user_guide/indexing.html#returning-a-view-versus-a-copy\n",
            "  X[column] = np.clip(X[column], lower_limit, upper_limit)\n",
            "<ipython-input-72-616af379d735>:8: SettingWithCopyWarning: \n",
            "A value is trying to be set on a copy of a slice from a DataFrame.\n",
            "Try using .loc[row_indexer,col_indexer] = value instead\n",
            "\n",
            "See the caveats in the documentation: https://pandas.pydata.org/pandas-docs/stable/user_guide/indexing.html#returning-a-view-versus-a-copy\n",
            "  X[column] = np.clip(X[column], lower_limit, upper_limit)\n",
            "<ipython-input-72-616af379d735>:8: SettingWithCopyWarning: \n",
            "A value is trying to be set on a copy of a slice from a DataFrame.\n",
            "Try using .loc[row_indexer,col_indexer] = value instead\n",
            "\n",
            "See the caveats in the documentation: https://pandas.pydata.org/pandas-docs/stable/user_guide/indexing.html#returning-a-view-versus-a-copy\n",
            "  X[column] = np.clip(X[column], lower_limit, upper_limit)\n",
            "<ipython-input-72-616af379d735>:8: SettingWithCopyWarning: \n",
            "A value is trying to be set on a copy of a slice from a DataFrame.\n",
            "Try using .loc[row_indexer,col_indexer] = value instead\n",
            "\n",
            "See the caveats in the documentation: https://pandas.pydata.org/pandas-docs/stable/user_guide/indexing.html#returning-a-view-versus-a-copy\n",
            "  X[column] = np.clip(X[column], lower_limit, upper_limit)\n",
            "<ipython-input-72-616af379d735>:8: SettingWithCopyWarning: \n",
            "A value is trying to be set on a copy of a slice from a DataFrame.\n",
            "Try using .loc[row_indexer,col_indexer] = value instead\n",
            "\n",
            "See the caveats in the documentation: https://pandas.pydata.org/pandas-docs/stable/user_guide/indexing.html#returning-a-view-versus-a-copy\n",
            "  X[column] = np.clip(X[column], lower_limit, upper_limit)\n",
            "<ipython-input-72-616af379d735>:8: SettingWithCopyWarning: \n",
            "A value is trying to be set on a copy of a slice from a DataFrame.\n",
            "Try using .loc[row_indexer,col_indexer] = value instead\n",
            "\n",
            "See the caveats in the documentation: https://pandas.pydata.org/pandas-docs/stable/user_guide/indexing.html#returning-a-view-versus-a-copy\n",
            "  X[column] = np.clip(X[column], lower_limit, upper_limit)\n",
            "<ipython-input-72-616af379d735>:8: SettingWithCopyWarning: \n",
            "A value is trying to be set on a copy of a slice from a DataFrame.\n",
            "Try using .loc[row_indexer,col_indexer] = value instead\n",
            "\n",
            "See the caveats in the documentation: https://pandas.pydata.org/pandas-docs/stable/user_guide/indexing.html#returning-a-view-versus-a-copy\n",
            "  X[column] = np.clip(X[column], lower_limit, upper_limit)\n",
            "<ipython-input-72-616af379d735>:8: SettingWithCopyWarning: \n",
            "A value is trying to be set on a copy of a slice from a DataFrame.\n",
            "Try using .loc[row_indexer,col_indexer] = value instead\n",
            "\n",
            "See the caveats in the documentation: https://pandas.pydata.org/pandas-docs/stable/user_guide/indexing.html#returning-a-view-versus-a-copy\n",
            "  X[column] = np.clip(X[column], lower_limit, upper_limit)\n"
          ]
        },
        {
          "output_type": "stream",
          "name": "stdout",
          "text": [
            "Fitting 5 folds for each of 100 candidates, totalling 500 fits\n",
            "[CV 1/5] END .................var_smoothing=1.0;, score=0.787 total time=   0.0s\n",
            "[CV 2/5] END .................var_smoothing=1.0;, score=0.727 total time=   0.0s\n",
            "[CV 3/5] END .................var_smoothing=1.0;, score=0.760 total time=   0.0s\n",
            "[CV 4/5] END .................var_smoothing=1.0;, score=0.727 total time=   0.0s\n",
            "[CV 5/5] END .................var_smoothing=1.0;, score=0.827 total time=   0.0s\n",
            "[CV 1/5] END ..var_smoothing=0.8111308307896871;, score=0.793 total time=   0.0s\n",
            "[CV 2/5] END ..var_smoothing=0.8111308307896871;, score=0.727 total time=   0.0s\n",
            "[CV 3/5] END ..var_smoothing=0.8111308307896871;, score=0.780 total time=   0.0s\n",
            "[CV 4/5] END ..var_smoothing=0.8111308307896871;, score=0.733 total time=   0.0s\n",
            "[CV 5/5] END ..var_smoothing=0.8111308307896871;, score=0.833 total time=   0.0s\n",
            "[CV 1/5] END ...var_smoothing=0.657933224657568;, score=0.800 total time=   0.0s\n",
            "[CV 2/5] END ...var_smoothing=0.657933224657568;, score=0.733 total time=   0.0s\n",
            "[CV 3/5] END ...var_smoothing=0.657933224657568;, score=0.780 total time=   0.0s\n",
            "[CV 4/5] END ...var_smoothing=0.657933224657568;, score=0.753 total time=   0.0s\n",
            "[CV 5/5] END ...var_smoothing=0.657933224657568;, score=0.860 total time=   0.0s\n",
            "[CV 1/5] END ...var_smoothing=0.533669923120631;, score=0.800 total time=   0.0s\n",
            "[CV 2/5] END ...var_smoothing=0.533669923120631;, score=0.740 total time=   0.0s\n",
            "[CV 3/5] END ...var_smoothing=0.533669923120631;, score=0.787 total time=   0.0s\n",
            "[CV 4/5] END ...var_smoothing=0.533669923120631;, score=0.767 total time=   0.0s\n",
            "[CV 5/5] END ...var_smoothing=0.533669923120631;, score=0.860 total time=   0.0s\n",
            "[CV 1/5] END .var_smoothing=0.43287612810830584;, score=0.807 total time=   0.0s\n",
            "[CV 2/5] END .var_smoothing=0.43287612810830584;, score=0.747 total time=   0.0s\n",
            "[CV 3/5] END .var_smoothing=0.43287612810830584;, score=0.787 total time=   0.0s\n",
            "[CV 4/5] END .var_smoothing=0.43287612810830584;, score=0.773 total time=   0.0s\n",
            "[CV 5/5] END .var_smoothing=0.43287612810830584;, score=0.860 total time=   0.0s\n",
            "[CV 1/5] END ..var_smoothing=0.3511191734215131;, score=0.813 total time=   0.0s\n",
            "[CV 2/5] END ..var_smoothing=0.3511191734215131;, score=0.747 total time=   0.0s\n",
            "[CV 3/5] END ..var_smoothing=0.3511191734215131;, score=0.800 total time=   0.0s\n",
            "[CV 4/5] END ..var_smoothing=0.3511191734215131;, score=0.773 total time=   0.0s\n",
            "[CV 5/5] END ..var_smoothing=0.3511191734215131;, score=0.867 total time=   0.0s\n",
            "[CV 1/5] END ..var_smoothing=0.2848035868435802;, score=0.820 total time=   0.0s\n",
            "[CV 2/5] END ..var_smoothing=0.2848035868435802;, score=0.760 total time=   0.0s\n",
            "[CV 3/5] END ..var_smoothing=0.2848035868435802;, score=0.813 total time=   0.0s\n",
            "[CV 4/5] END ..var_smoothing=0.2848035868435802;, score=0.780 total time=   0.0s\n",
            "[CV 5/5] END ..var_smoothing=0.2848035868435802;, score=0.867 total time=   0.0s\n",
            "[CV 1/5] END .var_smoothing=0.23101297000831597;, score=0.827 total time=   0.0s\n",
            "[CV 2/5] END .var_smoothing=0.23101297000831597;, score=0.767 total time=   0.0s\n",
            "[CV 3/5] END .var_smoothing=0.23101297000831597;, score=0.813 total time=   0.0s\n",
            "[CV 4/5] END .var_smoothing=0.23101297000831597;, score=0.780 total time=   0.0s\n",
            "[CV 5/5] END .var_smoothing=0.23101297000831597;, score=0.873 total time=   0.0s\n",
            "[CV 1/5] END ..var_smoothing=0.1873817422860384;, score=0.827 total time=   0.0s\n",
            "[CV 2/5] END ..var_smoothing=0.1873817422860384;, score=0.780 total time=   0.0s\n",
            "[CV 3/5] END ..var_smoothing=0.1873817422860384;, score=0.820 total time=   0.0s\n",
            "[CV 4/5] END ..var_smoothing=0.1873817422860384;, score=0.787 total time=   0.0s\n",
            "[CV 5/5] END ..var_smoothing=0.1873817422860384;, score=0.887 total time=   0.0s\n",
            "[CV 1/5] END .var_smoothing=0.15199110829529336;, score=0.833 total time=   0.0s\n",
            "[CV 2/5] END .var_smoothing=0.15199110829529336;, score=0.787 total time=   0.0s\n",
            "[CV 3/5] END .var_smoothing=0.15199110829529336;, score=0.827 total time=   0.0s\n",
            "[CV 4/5] END .var_smoothing=0.15199110829529336;, score=0.787 total time=   0.0s\n",
            "[CV 5/5] END .var_smoothing=0.15199110829529336;, score=0.887 total time=   0.0s\n",
            "[CV 1/5] END .var_smoothing=0.12328467394420659;, score=0.840 total time=   0.0s\n",
            "[CV 2/5] END .var_smoothing=0.12328467394420659;, score=0.787 total time=   0.0s\n",
            "[CV 3/5] END .var_smoothing=0.12328467394420659;, score=0.827 total time=   0.0s\n",
            "[CV 4/5] END .var_smoothing=0.12328467394420659;, score=0.793 total time=   0.0s\n",
            "[CV 5/5] END .var_smoothing=0.12328467394420659;, score=0.893 total time=   0.0s\n",
            "[CV 1/5] END .................var_smoothing=0.1;, score=0.840 total time=   0.0s\n",
            "[CV 2/5] END .................var_smoothing=0.1;, score=0.800 total time=   0.0s\n",
            "[CV 3/5] END .................var_smoothing=0.1;, score=0.820 total time=   0.0s\n",
            "[CV 4/5] END .................var_smoothing=0.1;, score=0.793 total time=   0.0s\n",
            "[CV 5/5] END .................var_smoothing=0.1;, score=0.893 total time=   0.0s\n",
            "[CV 1/5] END .var_smoothing=0.08111308307896872;, score=0.840 total time=   0.0s\n",
            "[CV 2/5] END .var_smoothing=0.08111308307896872;, score=0.793 total time=   0.0s\n",
            "[CV 3/5] END .var_smoothing=0.08111308307896872;, score=0.827 total time=   0.0s\n",
            "[CV 4/5] END .var_smoothing=0.08111308307896872;, score=0.793 total time=   0.0s\n",
            "[CV 5/5] END .var_smoothing=0.08111308307896872;, score=0.893 total time=   0.0s\n",
            "[CV 1/5] END ..var_smoothing=0.0657933224657568;, score=0.840 total time=   0.0s\n",
            "[CV 2/5] END ..var_smoothing=0.0657933224657568;, score=0.813 total time=   0.0s\n",
            "[CV 3/5] END ..var_smoothing=0.0657933224657568;, score=0.827 total time=   0.0s\n",
            "[CV 4/5] END ..var_smoothing=0.0657933224657568;, score=0.793 total time=   0.0s\n",
            "[CV 5/5] END ..var_smoothing=0.0657933224657568;, score=0.893 total time=   0.0s\n",
            "[CV 1/5] END ..var_smoothing=0.0533669923120631;, score=0.840 total time=   0.0s\n",
            "[CV 2/5] END ..var_smoothing=0.0533669923120631;, score=0.807 total time=   0.0s\n",
            "[CV 3/5] END ..var_smoothing=0.0533669923120631;, score=0.840 total time=   0.0s\n",
            "[CV 4/5] END ..var_smoothing=0.0533669923120631;, score=0.787 total time=   0.0s\n",
            "[CV 5/5] END ..var_smoothing=0.0533669923120631;, score=0.887 total time=   0.0s\n",
            "[CV 1/5] END .var_smoothing=0.04328761281083057;, score=0.833 total time=   0.0s\n",
            "[CV 2/5] END .var_smoothing=0.04328761281083057;, score=0.807 total time=   0.0s\n",
            "[CV 3/5] END .var_smoothing=0.04328761281083057;, score=0.840 total time=   0.0s\n",
            "[CV 4/5] END .var_smoothing=0.04328761281083057;, score=0.787 total time=   0.0s\n",
            "[CV 5/5] END .var_smoothing=0.04328761281083057;, score=0.887 total time=   0.0s\n",
            "[CV 1/5] END .var_smoothing=0.03511191734215131;, score=0.840 total time=   0.0s\n",
            "[CV 2/5] END .var_smoothing=0.03511191734215131;, score=0.807 total time=   0.0s\n",
            "[CV 3/5] END .var_smoothing=0.03511191734215131;, score=0.840 total time=   0.0s\n",
            "[CV 4/5] END .var_smoothing=0.03511191734215131;, score=0.793 total time=   0.0s\n",
            "[CV 5/5] END .var_smoothing=0.03511191734215131;, score=0.887 total time=   0.0s\n",
            "[CV 1/5] END .var_smoothing=0.02848035868435802;, score=0.840 total time=   0.0s\n",
            "[CV 2/5] END .var_smoothing=0.02848035868435802;, score=0.807 total time=   0.0s\n",
            "[CV 3/5] END .var_smoothing=0.02848035868435802;, score=0.840 total time=   0.0s\n",
            "[CV 4/5] END .var_smoothing=0.02848035868435802;, score=0.800 total time=   0.0s\n",
            "[CV 5/5] END .var_smoothing=0.02848035868435802;, score=0.887 total time=   0.0s\n",
            "[CV 1/5] END .var_smoothing=0.02310129700083159;, score=0.833 total time=   0.0s\n",
            "[CV 2/5] END .var_smoothing=0.02310129700083159;, score=0.800 total time=   0.0s\n",
            "[CV 3/5] END .var_smoothing=0.02310129700083159;, score=0.840 total time=   0.0s\n",
            "[CV 4/5] END .var_smoothing=0.02310129700083159;, score=0.807 total time=   0.0s\n",
            "[CV 5/5] END .var_smoothing=0.02310129700083159;, score=0.887 total time=   0.0s\n",
            "[CV 1/5] END .var_smoothing=0.01873817422860384;, score=0.833 total time=   0.0s\n",
            "[CV 2/5] END .var_smoothing=0.01873817422860384;, score=0.800 total time=   0.0s\n",
            "[CV 3/5] END .var_smoothing=0.01873817422860384;, score=0.840 total time=   0.0s\n",
            "[CV 4/5] END .var_smoothing=0.01873817422860384;, score=0.807 total time=   0.0s\n",
            "[CV 5/5] END .var_smoothing=0.01873817422860384;, score=0.880 total time=   0.0s\n",
            "[CV 1/5] END .var_smoothing=0.01519911082952933;, score=0.833 total time=   0.0s\n",
            "[CV 2/5] END .var_smoothing=0.01519911082952933;, score=0.787 total time=   0.0s\n",
            "[CV 3/5] END .var_smoothing=0.01519911082952933;, score=0.840 total time=   0.0s\n",
            "[CV 4/5] END .var_smoothing=0.01519911082952933;, score=0.813 total time=   0.0s\n",
            "[CV 5/5] END .var_smoothing=0.01519911082952933;, score=0.873 total time=   0.0s\n",
            "[CV 1/5] END var_smoothing=0.012328467394420659;, score=0.833 total time=   0.0s\n",
            "[CV 2/5] END var_smoothing=0.012328467394420659;, score=0.787 total time=   0.0s\n",
            "[CV 3/5] END var_smoothing=0.012328467394420659;, score=0.840 total time=   0.0s\n",
            "[CV 4/5] END var_smoothing=0.012328467394420659;, score=0.813 total time=   0.0s\n",
            "[CV 5/5] END var_smoothing=0.012328467394420659;, score=0.873 total time=   0.0s\n",
            "[CV 1/5] END ................var_smoothing=0.01;, score=0.833 total time=   0.0s\n",
            "[CV 2/5] END ................var_smoothing=0.01;, score=0.793 total time=   0.0s\n",
            "[CV 3/5] END ................var_smoothing=0.01;, score=0.827 total time=   0.0s\n",
            "[CV 4/5] END ................var_smoothing=0.01;, score=0.813 total time=   0.0s\n",
            "[CV 5/5] END ................var_smoothing=0.01;, score=0.873 total time=   0.0s\n",
            "[CV 1/5] END var_smoothing=0.008111308307896872;, score=0.827 total time=   0.0s\n",
            "[CV 2/5] END var_smoothing=0.008111308307896872;, score=0.793 total time=   0.0s\n",
            "[CV 3/5] END var_smoothing=0.008111308307896872;, score=0.827 total time=   0.0s\n",
            "[CV 4/5] END var_smoothing=0.008111308307896872;, score=0.813 total time=   0.0s\n",
            "[CV 5/5] END var_smoothing=0.008111308307896872;, score=0.873 total time=   0.0s\n",
            "[CV 1/5] END var_smoothing=0.006579332246575682;, score=0.827 total time=   0.0s\n",
            "[CV 2/5] END var_smoothing=0.006579332246575682;, score=0.793 total time=   0.0s\n",
            "[CV 3/5] END var_smoothing=0.006579332246575682;, score=0.813 total time=   0.0s\n",
            "[CV 4/5] END var_smoothing=0.006579332246575682;, score=0.793 total time=   0.0s\n",
            "[CV 5/5] END var_smoothing=0.006579332246575682;, score=0.873 total time=   0.0s\n",
            "[CV 1/5] END var_smoothing=0.005336699231206307;, score=0.827 total time=   0.0s\n",
            "[CV 2/5] END var_smoothing=0.005336699231206307;, score=0.787 total time=   0.0s\n",
            "[CV 3/5] END var_smoothing=0.005336699231206307;, score=0.820 total time=   0.0s\n",
            "[CV 4/5] END var_smoothing=0.005336699231206307;, score=0.780 total time=   0.0s\n",
            "[CV 5/5] END var_smoothing=0.005336699231206307;, score=0.873 total time=   0.0s\n",
            "[CV 1/5] END var_smoothing=0.004328761281083057;, score=0.827 total time=   0.0s\n",
            "[CV 2/5] END var_smoothing=0.004328761281083057;, score=0.787 total time=   0.0s\n",
            "[CV 3/5] END var_smoothing=0.004328761281083057;, score=0.820 total time=   0.0s\n",
            "[CV 4/5] END var_smoothing=0.004328761281083057;, score=0.780 total time=   0.0s\n",
            "[CV 5/5] END var_smoothing=0.004328761281083057;, score=0.867 total time=   0.0s\n",
            "[CV 1/5] END var_smoothing=0.003511191734215131;, score=0.827 total time=   0.0s\n",
            "[CV 2/5] END var_smoothing=0.003511191734215131;, score=0.787 total time=   0.0s\n",
            "[CV 3/5] END var_smoothing=0.003511191734215131;, score=0.820 total time=   0.0s\n",
            "[CV 4/5] END var_smoothing=0.003511191734215131;, score=0.780 total time=   0.0s\n",
            "[CV 5/5] END var_smoothing=0.003511191734215131;, score=0.853 total time=   0.0s\n",
            "[CV 1/5] END var_smoothing=0.002848035868435802;, score=0.827 total time=   0.0s\n",
            "[CV 2/5] END var_smoothing=0.002848035868435802;, score=0.780 total time=   0.0s\n",
            "[CV 3/5] END var_smoothing=0.002848035868435802;, score=0.820 total time=   0.0s\n",
            "[CV 4/5] END var_smoothing=0.002848035868435802;, score=0.773 total time=   0.0s\n",
            "[CV 5/5] END var_smoothing=0.002848035868435802;, score=0.853 total time=   0.0s\n",
            "[CV 1/5] END var_smoothing=0.0023101297000831605;, score=0.827 total time=   0.0s\n",
            "[CV 2/5] END var_smoothing=0.0023101297000831605;, score=0.780 total time=   0.0s\n",
            "[CV 3/5] END var_smoothing=0.0023101297000831605;, score=0.820 total time=   0.0s\n",
            "[CV 4/5] END var_smoothing=0.0023101297000831605;, score=0.773 total time=   0.0s\n",
            "[CV 5/5] END var_smoothing=0.0023101297000831605;, score=0.853 total time=   0.0s\n",
            "[CV 1/5] END var_smoothing=0.001873817422860383;, score=0.820 total time=   0.0s\n",
            "[CV 2/5] END var_smoothing=0.001873817422860383;, score=0.773 total time=   0.0s\n",
            "[CV 3/5] END var_smoothing=0.001873817422860383;, score=0.820 total time=   0.0s\n",
            "[CV 4/5] END var_smoothing=0.001873817422860383;, score=0.773 total time=   0.0s\n",
            "[CV 5/5] END var_smoothing=0.001873817422860383;, score=0.847 total time=   0.0s\n",
            "[CV 1/5] END var_smoothing=0.0015199110829529332;, score=0.820 total time=   0.0s\n",
            "[CV 2/5] END var_smoothing=0.0015199110829529332;, score=0.773 total time=   0.0s\n",
            "[CV 3/5] END var_smoothing=0.0015199110829529332;, score=0.813 total time=   0.0s\n",
            "[CV 4/5] END var_smoothing=0.0015199110829529332;, score=0.773 total time=   0.0s\n",
            "[CV 5/5] END var_smoothing=0.0015199110829529332;, score=0.847 total time=   0.0s\n",
            "[CV 1/5] END var_smoothing=0.0012328467394420659;, score=0.820 total time=   0.0s\n",
            "[CV 2/5] END var_smoothing=0.0012328467394420659;, score=0.767 total time=   0.0s\n",
            "[CV 3/5] END var_smoothing=0.0012328467394420659;, score=0.813 total time=   0.0s\n",
            "[CV 4/5] END var_smoothing=0.0012328467394420659;, score=0.773 total time=   0.0s\n",
            "[CV 5/5] END var_smoothing=0.0012328467394420659;, score=0.847 total time=   0.0s\n",
            "[CV 1/5] END ...............var_smoothing=0.001;, score=0.820 total time=   0.0s\n",
            "[CV 2/5] END ...............var_smoothing=0.001;, score=0.780 total time=   0.0s\n",
            "[CV 3/5] END ...............var_smoothing=0.001;, score=0.813 total time=   0.0s\n",
            "[CV 4/5] END ...............var_smoothing=0.001;, score=0.773 total time=   0.0s\n",
            "[CV 5/5] END ...............var_smoothing=0.001;, score=0.840 total time=   0.0s\n",
            "[CV 1/5] END var_smoothing=0.0008111308307896872;, score=0.820 total time=   0.0s\n",
            "[CV 2/5] END var_smoothing=0.0008111308307896872;, score=0.773 total time=   0.0s\n",
            "[CV 3/5] END var_smoothing=0.0008111308307896872;, score=0.813 total time=   0.0s\n",
            "[CV 4/5] END var_smoothing=0.0008111308307896872;, score=0.773 total time=   0.0s\n",
            "[CV 5/5] END var_smoothing=0.0008111308307896872;, score=0.840 total time=   0.0s\n",
            "[CV 1/5] END var_smoothing=0.0006579332246575676;, score=0.820 total time=   0.0s\n",
            "[CV 2/5] END var_smoothing=0.0006579332246575676;, score=0.780 total time=   0.0s\n",
            "[CV 3/5] END var_smoothing=0.0006579332246575676;, score=0.800 total time=   0.0s\n",
            "[CV 4/5] END var_smoothing=0.0006579332246575676;, score=0.767 total time=   0.0s\n",
            "[CV 5/5] END var_smoothing=0.0006579332246575676;, score=0.833 total time=   0.0s\n",
            "[CV 1/5] END var_smoothing=0.0005336699231206307;, score=0.813 total time=   0.0s\n",
            "[CV 2/5] END var_smoothing=0.0005336699231206307;, score=0.780 total time=   0.0s\n",
            "[CV 3/5] END var_smoothing=0.0005336699231206307;, score=0.800 total time=   0.0s\n",
            "[CV 4/5] END var_smoothing=0.0005336699231206307;, score=0.767 total time=   0.0s\n",
            "[CV 5/5] END var_smoothing=0.0005336699231206307;, score=0.833 total time=   0.0s\n",
            "[CV 1/5] END var_smoothing=0.0004328761281083057;, score=0.813 total time=   0.0s\n",
            "[CV 2/5] END var_smoothing=0.0004328761281083057;, score=0.780 total time=   0.0s\n",
            "[CV 3/5] END var_smoothing=0.0004328761281083057;, score=0.793 total time=   0.0s\n",
            "[CV 4/5] END var_smoothing=0.0004328761281083057;, score=0.767 total time=   0.0s\n",
            "[CV 5/5] END var_smoothing=0.0004328761281083057;, score=0.833 total time=   0.0s\n",
            "[CV 1/5] END var_smoothing=0.0003511191734215131;, score=0.800 total time=   0.0s\n",
            "[CV 2/5] END var_smoothing=0.0003511191734215131;, score=0.780 total time=   0.0s\n",
            "[CV 3/5] END var_smoothing=0.0003511191734215131;, score=0.793 total time=   0.0s\n",
            "[CV 4/5] END var_smoothing=0.0003511191734215131;, score=0.767 total time=   0.0s\n",
            "[CV 5/5] END var_smoothing=0.0003511191734215131;, score=0.833 total time=   0.0s\n",
            "[CV 1/5] END var_smoothing=0.0002848035868435802;, score=0.800 total time=   0.0s\n",
            "[CV 2/5] END var_smoothing=0.0002848035868435802;, score=0.773 total time=   0.0s\n",
            "[CV 3/5] END var_smoothing=0.0002848035868435802;, score=0.780 total time=   0.0s\n",
            "[CV 4/5] END var_smoothing=0.0002848035868435802;, score=0.760 total time=   0.0s\n",
            "[CV 5/5] END var_smoothing=0.0002848035868435802;, score=0.827 total time=   0.0s\n",
            "[CV 1/5] END var_smoothing=0.0002310129700083158;, score=0.800 total time=   0.0s\n",
            "[CV 2/5] END var_smoothing=0.0002310129700083158;, score=0.773 total time=   0.0s\n",
            "[CV 3/5] END var_smoothing=0.0002310129700083158;, score=0.767 total time=   0.0s\n",
            "[CV 4/5] END var_smoothing=0.0002310129700083158;, score=0.747 total time=   0.0s\n",
            "[CV 5/5] END var_smoothing=0.0002310129700083158;, score=0.827 total time=   0.0s\n",
            "[CV 1/5] END var_smoothing=0.0001873817422860383;, score=0.800 total time=   0.0s\n",
            "[CV 2/5] END var_smoothing=0.0001873817422860383;, score=0.780 total time=   0.0s\n",
            "[CV 3/5] END var_smoothing=0.0001873817422860383;, score=0.767 total time=   0.0s\n",
            "[CV 4/5] END var_smoothing=0.0001873817422860383;, score=0.747 total time=   0.0s\n",
            "[CV 5/5] END var_smoothing=0.0001873817422860383;, score=0.813 total time=   0.0s\n",
            "[CV 1/5] END var_smoothing=0.0001519911082952933;, score=0.800 total time=   0.0s\n",
            "[CV 2/5] END var_smoothing=0.0001519911082952933;, score=0.780 total time=   0.0s\n",
            "[CV 3/5] END var_smoothing=0.0001519911082952933;, score=0.753 total time=   0.0s\n",
            "[CV 4/5] END var_smoothing=0.0001519911082952933;, score=0.747 total time=   0.0s\n",
            "[CV 5/5] END var_smoothing=0.0001519911082952933;, score=0.807 total time=   0.0s\n",
            "[CV 1/5] END var_smoothing=0.0001232846739442066;, score=0.800 total time=   0.0s\n",
            "[CV 2/5] END var_smoothing=0.0001232846739442066;, score=0.780 total time=   0.0s\n",
            "[CV 3/5] END var_smoothing=0.0001232846739442066;, score=0.753 total time=   0.0s\n",
            "[CV 4/5] END var_smoothing=0.0001232846739442066;, score=0.740 total time=   0.0s\n",
            "[CV 5/5] END var_smoothing=0.0001232846739442066;, score=0.800 total time=   0.0s\n",
            "[CV 1/5] END ..............var_smoothing=0.0001;, score=0.800 total time=   0.0s\n",
            "[CV 2/5] END ..............var_smoothing=0.0001;, score=0.773 total time=   0.0s\n",
            "[CV 3/5] END ..............var_smoothing=0.0001;, score=0.747 total time=   0.0s\n",
            "[CV 4/5] END ..............var_smoothing=0.0001;, score=0.740 total time=   0.0s\n",
            "[CV 5/5] END ..............var_smoothing=0.0001;, score=0.800 total time=   0.0s\n",
            "[CV 1/5] END var_smoothing=8.111308307896872e-05;, score=0.800 total time=   0.0s\n",
            "[CV 2/5] END var_smoothing=8.111308307896872e-05;, score=0.767 total time=   0.0s\n",
            "[CV 3/5] END var_smoothing=8.111308307896872e-05;, score=0.733 total time=   0.0s\n",
            "[CV 4/5] END var_smoothing=8.111308307896872e-05;, score=0.740 total time=   0.0s\n",
            "[CV 5/5] END var_smoothing=8.111308307896872e-05;, score=0.800 total time=   0.0s\n",
            "[CV 1/5] END var_smoothing=6.579332246575683e-05;, score=0.800 total time=   0.0s\n",
            "[CV 2/5] END var_smoothing=6.579332246575683e-05;, score=0.760 total time=   0.0s\n",
            "[CV 3/5] END var_smoothing=6.579332246575683e-05;, score=0.733 total time=   0.0s\n",
            "[CV 4/5] END var_smoothing=6.579332246575683e-05;, score=0.740 total time=   0.0s\n",
            "[CV 5/5] END var_smoothing=6.579332246575683e-05;, score=0.800 total time=   0.0s\n",
            "[CV 1/5] END var_smoothing=5.3366992312063123e-05;, score=0.800 total time=   0.0s\n",
            "[CV 2/5] END var_smoothing=5.3366992312063123e-05;, score=0.747 total time=   0.0s\n",
            "[CV 3/5] END var_smoothing=5.3366992312063123e-05;, score=0.727 total time=   0.0s\n",
            "[CV 4/5] END var_smoothing=5.3366992312063123e-05;, score=0.733 total time=   0.0s\n",
            "[CV 5/5] END var_smoothing=5.3366992312063123e-05;, score=0.800 total time=   0.0s\n",
            "[CV 1/5] END var_smoothing=4.328761281083062e-05;, score=0.800 total time=   0.0s\n",
            "[CV 2/5] END var_smoothing=4.328761281083062e-05;, score=0.740 total time=   0.0s\n",
            "[CV 3/5] END var_smoothing=4.328761281083062e-05;, score=0.727 total time=   0.0s\n",
            "[CV 4/5] END var_smoothing=4.328761281083062e-05;, score=0.727 total time=   0.0s\n",
            "[CV 5/5] END var_smoothing=4.328761281083062e-05;, score=0.800 total time=   0.0s\n",
            "[CV 1/5] END var_smoothing=3.511191734215127e-05;, score=0.800 total time=   0.0s\n",
            "[CV 2/5] END var_smoothing=3.511191734215127e-05;, score=0.740 total time=   0.0s\n",
            "[CV 3/5] END var_smoothing=3.511191734215127e-05;, score=0.700 total time=   0.0s\n",
            "[CV 4/5] END var_smoothing=3.511191734215127e-05;, score=0.727 total time=   0.0s\n",
            "[CV 5/5] END var_smoothing=3.511191734215127e-05;, score=0.800 total time=   0.0s\n",
            "[CV 1/5] END var_smoothing=2.848035868435799e-05;, score=0.800 total time=   0.0s\n",
            "[CV 2/5] END var_smoothing=2.848035868435799e-05;, score=0.740 total time=   0.0s\n",
            "[CV 3/5] END var_smoothing=2.848035868435799e-05;, score=0.693 total time=   0.0s\n",
            "[CV 4/5] END var_smoothing=2.848035868435799e-05;, score=0.727 total time=   0.0s\n",
            "[CV 5/5] END var_smoothing=2.848035868435799e-05;, score=0.800 total time=   0.0s\n",
            "[CV 1/5] END var_smoothing=2.310129700083158e-05;, score=0.800 total time=   0.0s\n",
            "[CV 2/5] END var_smoothing=2.310129700083158e-05;, score=0.733 total time=   0.0s\n",
            "[CV 3/5] END var_smoothing=2.310129700083158e-05;, score=0.687 total time=   0.0s\n",
            "[CV 4/5] END var_smoothing=2.310129700083158e-05;, score=0.727 total time=   0.0s\n",
            "[CV 5/5] END var_smoothing=2.310129700083158e-05;, score=0.793 total time=   0.0s\n",
            "[CV 1/5] END var_smoothing=1.873817422860383e-05;, score=0.800 total time=   0.0s\n",
            "[CV 2/5] END var_smoothing=1.873817422860383e-05;, score=0.727 total time=   0.0s\n",
            "[CV 3/5] END var_smoothing=1.873817422860383e-05;, score=0.680 total time=   0.0s\n",
            "[CV 4/5] END var_smoothing=1.873817422860383e-05;, score=0.727 total time=   0.0s\n",
            "[CV 5/5] END var_smoothing=1.873817422860383e-05;, score=0.787 total time=   0.0s\n",
            "[CV 1/5] END var_smoothing=1.5199110829529332e-05;, score=0.800 total time=   0.0s\n",
            "[CV 2/5] END var_smoothing=1.5199110829529332e-05;, score=0.720 total time=   0.0s\n",
            "[CV 3/5] END var_smoothing=1.5199110829529332e-05;, score=0.667 total time=   0.0s\n",
            "[CV 4/5] END var_smoothing=1.5199110829529332e-05;, score=0.713 total time=   0.0s\n",
            "[CV 5/5] END var_smoothing=1.5199110829529332e-05;, score=0.787 total time=   0.0s\n",
            "[CV 1/5] END var_smoothing=1.2328467394420658e-05;, score=0.800 total time=   0.0s\n",
            "[CV 2/5] END var_smoothing=1.2328467394420658e-05;, score=0.713 total time=   0.0s\n",
            "[CV 3/5] END var_smoothing=1.2328467394420658e-05;, score=0.660 total time=   0.0s\n",
            "[CV 4/5] END var_smoothing=1.2328467394420658e-05;, score=0.707 total time=   0.0s\n",
            "[CV 5/5] END var_smoothing=1.2328467394420658e-05;, score=0.773 total time=   0.0s\n",
            "[CV 1/5] END ...............var_smoothing=1e-05;, score=0.793 total time=   0.0s\n",
            "[CV 2/5] END ...............var_smoothing=1e-05;, score=0.700 total time=   0.0s\n",
            "[CV 3/5] END ...............var_smoothing=1e-05;, score=0.653 total time=   0.0s\n",
            "[CV 4/5] END ...............var_smoothing=1e-05;, score=0.687 total time=   0.0s\n",
            "[CV 5/5] END ...............var_smoothing=1e-05;, score=0.767 total time=   0.0s\n",
            "[CV 1/5] END var_smoothing=8.111308307896873e-06;, score=0.793 total time=   0.0s\n",
            "[CV 2/5] END var_smoothing=8.111308307896873e-06;, score=0.700 total time=   0.0s\n",
            "[CV 3/5] END var_smoothing=8.111308307896873e-06;, score=0.653 total time=   0.0s\n",
            "[CV 4/5] END var_smoothing=8.111308307896873e-06;, score=0.680 total time=   0.0s\n",
            "[CV 5/5] END var_smoothing=8.111308307896873e-06;, score=0.767 total time=   0.0s\n",
            "[CV 1/5] END var_smoothing=6.579332246575683e-06;, score=0.793 total time=   0.0s\n",
            "[CV 2/5] END var_smoothing=6.579332246575683e-06;, score=0.700 total time=   0.0s\n",
            "[CV 3/5] END var_smoothing=6.579332246575683e-06;, score=0.640 total time=   0.0s\n",
            "[CV 4/5] END var_smoothing=6.579332246575683e-06;, score=0.680 total time=   0.0s\n",
            "[CV 5/5] END var_smoothing=6.579332246575683e-06;, score=0.760 total time=   0.0s\n",
            "[CV 1/5] END var_smoothing=5.336699231206313e-06;, score=0.793 total time=   0.0s\n",
            "[CV 2/5] END var_smoothing=5.336699231206313e-06;, score=0.693 total time=   0.0s\n",
            "[CV 3/5] END var_smoothing=5.336699231206313e-06;, score=0.633 total time=   0.0s\n",
            "[CV 4/5] END var_smoothing=5.336699231206313e-06;, score=0.673 total time=   0.0s\n",
            "[CV 5/5] END var_smoothing=5.336699231206313e-06;, score=0.760 total time=   0.0s\n",
            "[CV 1/5] END var_smoothing=4.328761281083053e-06;, score=0.793 total time=   0.0s\n",
            "[CV 2/5] END var_smoothing=4.328761281083053e-06;, score=0.693 total time=   0.0s\n",
            "[CV 3/5] END var_smoothing=4.328761281083053e-06;, score=0.633 total time=   0.0s\n",
            "[CV 4/5] END var_smoothing=4.328761281083053e-06;, score=0.673 total time=   0.0s\n",
            "[CV 5/5] END var_smoothing=4.328761281083053e-06;, score=0.747 total time=   0.0s\n",
            "[CV 1/5] END var_smoothing=3.5111917342151275e-06;, score=0.787 total time=   0.0s\n",
            "[CV 2/5] END var_smoothing=3.5111917342151275e-06;, score=0.680 total time=   0.0s\n",
            "[CV 3/5] END var_smoothing=3.5111917342151275e-06;, score=0.633 total time=   0.0s\n",
            "[CV 4/5] END var_smoothing=3.5111917342151275e-06;, score=0.667 total time=   0.0s\n",
            "[CV 5/5] END var_smoothing=3.5111917342151275e-06;, score=0.747 total time=   0.0s\n",
            "[CV 1/5] END var_smoothing=2.848035868435799e-06;, score=0.787 total time=   0.0s\n",
            "[CV 2/5] END var_smoothing=2.848035868435799e-06;, score=0.673 total time=   0.0s\n",
            "[CV 3/5] END var_smoothing=2.848035868435799e-06;, score=0.620 total time=   0.0s\n",
            "[CV 4/5] END var_smoothing=2.848035868435799e-06;, score=0.653 total time=   0.0s\n",
            "[CV 5/5] END var_smoothing=2.848035868435799e-06;, score=0.727 total time=   0.0s\n",
            "[CV 1/5] END var_smoothing=2.310129700083158e-06;, score=0.787 total time=   0.0s\n",
            "[CV 2/5] END var_smoothing=2.310129700083158e-06;, score=0.673 total time=   0.0s\n",
            "[CV 3/5] END var_smoothing=2.310129700083158e-06;, score=0.620 total time=   0.0s\n",
            "[CV 4/5] END var_smoothing=2.310129700083158e-06;, score=0.653 total time=   0.0s\n",
            "[CV 5/5] END var_smoothing=2.310129700083158e-06;, score=0.720 total time=   0.0s\n",
            "[CV 1/5] END var_smoothing=1.873817422860383e-06;, score=0.787 total time=   0.0s\n",
            "[CV 2/5] END var_smoothing=1.873817422860383e-06;, score=0.673 total time=   0.0s\n",
            "[CV 3/5] END var_smoothing=1.873817422860383e-06;, score=0.620 total time=   0.0s\n",
            "[CV 4/5] END var_smoothing=1.873817422860383e-06;, score=0.647 total time=   0.0s\n",
            "[CV 5/5] END var_smoothing=1.873817422860383e-06;, score=0.713 total time=   0.0s\n",
            "[CV 1/5] END var_smoothing=1.519911082952933e-06;, score=0.787 total time=   0.0s\n",
            "[CV 2/5] END var_smoothing=1.519911082952933e-06;, score=0.667 total time=   0.0s\n",
            "[CV 3/5] END var_smoothing=1.519911082952933e-06;, score=0.607 total time=   0.0s\n",
            "[CV 4/5] END var_smoothing=1.519911082952933e-06;, score=0.633 total time=   0.0s\n",
            "[CV 5/5] END var_smoothing=1.519911082952933e-06;, score=0.700 total time=   0.0s\n",
            "[CV 1/5] END var_smoothing=1.232846739442066e-06;, score=0.787 total time=   0.0s\n",
            "[CV 2/5] END var_smoothing=1.232846739442066e-06;, score=0.667 total time=   0.0s\n",
            "[CV 3/5] END var_smoothing=1.232846739442066e-06;, score=0.607 total time=   0.0s\n",
            "[CV 4/5] END var_smoothing=1.232846739442066e-06;, score=0.633 total time=   0.0s\n",
            "[CV 5/5] END var_smoothing=1.232846739442066e-06;, score=0.700 total time=   0.0s\n",
            "[CV 1/5] END ...............var_smoothing=1e-06;, score=0.787 total time=   0.0s\n",
            "[CV 2/5] END ...............var_smoothing=1e-06;, score=0.667 total time=   0.0s\n",
            "[CV 3/5] END ...............var_smoothing=1e-06;, score=0.593 total time=   0.0s\n",
            "[CV 4/5] END ...............var_smoothing=1e-06;, score=0.633 total time=   0.0s\n",
            "[CV 5/5] END ...............var_smoothing=1e-06;, score=0.693 total time=   0.0s\n",
            "[CV 1/5] END var_smoothing=8.111308307896872e-07;, score=0.787 total time=   0.0s\n",
            "[CV 2/5] END var_smoothing=8.111308307896872e-07;, score=0.660 total time=   0.0s\n",
            "[CV 3/5] END var_smoothing=8.111308307896872e-07;, score=0.593 total time=   0.0s\n",
            "[CV 4/5] END var_smoothing=8.111308307896872e-07;, score=0.620 total time=   0.0s\n",
            "[CV 5/5] END var_smoothing=8.111308307896872e-07;, score=0.687 total time=   0.0s\n",
            "[CV 1/5] END var_smoothing=6.579332246575682e-07;, score=0.787 total time=   0.0s\n",
            "[CV 2/5] END var_smoothing=6.579332246575682e-07;, score=0.660 total time=   0.0s\n",
            "[CV 3/5] END var_smoothing=6.579332246575682e-07;, score=0.593 total time=   0.0s\n",
            "[CV 4/5] END var_smoothing=6.579332246575682e-07;, score=0.607 total time=   0.0s\n",
            "[CV 5/5] END var_smoothing=6.579332246575682e-07;, score=0.687 total time=   0.0s\n",
            "[CV 1/5] END var_smoothing=5.336699231206313e-07;, score=0.780 total time=   0.0s\n",
            "[CV 2/5] END var_smoothing=5.336699231206313e-07;, score=0.653 total time=   0.0s\n",
            "[CV 3/5] END var_smoothing=5.336699231206313e-07;, score=0.593 total time=   0.0s\n",
            "[CV 4/5] END var_smoothing=5.336699231206313e-07;, score=0.593 total time=   0.0s\n",
            "[CV 5/5] END var_smoothing=5.336699231206313e-07;, score=0.680 total time=   0.0s\n",
            "[CV 1/5] END var_smoothing=4.3287612810830526e-07;, score=0.780 total time=   0.0s\n",
            "[CV 2/5] END var_smoothing=4.3287612810830526e-07;, score=0.653 total time=   0.0s\n",
            "[CV 3/5] END var_smoothing=4.3287612810830526e-07;, score=0.593 total time=   0.0s\n",
            "[CV 4/5] END var_smoothing=4.3287612810830526e-07;, score=0.593 total time=   0.0s\n",
            "[CV 5/5] END var_smoothing=4.3287612810830526e-07;, score=0.680 total time=   0.0s\n",
            "[CV 1/5] END var_smoothing=3.5111917342151277e-07;, score=0.780 total time=   0.0s\n",
            "[CV 2/5] END var_smoothing=3.5111917342151277e-07;, score=0.653 total time=   0.0s\n",
            "[CV 3/5] END var_smoothing=3.5111917342151277e-07;, score=0.593 total time=   0.0s\n",
            "[CV 4/5] END var_smoothing=3.5111917342151277e-07;, score=0.593 total time=   0.0s\n",
            "[CV 5/5] END var_smoothing=3.5111917342151277e-07;, score=0.680 total time=   0.0s\n",
            "[CV 1/5] END var_smoothing=2.848035868435799e-07;, score=0.780 total time=   0.0s\n",
            "[CV 2/5] END var_smoothing=2.848035868435799e-07;, score=0.647 total time=   0.0s\n",
            "[CV 3/5] END var_smoothing=2.848035868435799e-07;, score=0.580 total time=   0.0s\n",
            "[CV 4/5] END var_smoothing=2.848035868435799e-07;, score=0.593 total time=   0.0s\n",
            "[CV 5/5] END var_smoothing=2.848035868435799e-07;, score=0.667 total time=   0.0s\n",
            "[CV 1/5] END var_smoothing=2.310129700083158e-07;, score=0.780 total time=   0.0s\n",
            "[CV 2/5] END var_smoothing=2.310129700083158e-07;, score=0.640 total time=   0.0s\n",
            "[CV 3/5] END var_smoothing=2.310129700083158e-07;, score=0.580 total time=   0.0s\n",
            "[CV 4/5] END var_smoothing=2.310129700083158e-07;, score=0.593 total time=   0.0s\n",
            "[CV 5/5] END var_smoothing=2.310129700083158e-07;, score=0.660 total time=   0.0s\n",
            "[CV 1/5] END var_smoothing=1.873817422860383e-07;, score=0.780 total time=   0.0s\n",
            "[CV 2/5] END var_smoothing=1.873817422860383e-07;, score=0.640 total time=   0.0s\n",
            "[CV 3/5] END var_smoothing=1.873817422860383e-07;, score=0.580 total time=   0.0s\n",
            "[CV 4/5] END var_smoothing=1.873817422860383e-07;, score=0.593 total time=   0.0s\n",
            "[CV 5/5] END var_smoothing=1.873817422860383e-07;, score=0.660 total time=   0.0s\n",
            "[CV 1/5] END var_smoothing=1.519911082952933e-07;, score=0.780 total time=   0.0s\n",
            "[CV 2/5] END var_smoothing=1.519911082952933e-07;, score=0.640 total time=   0.0s\n",
            "[CV 3/5] END var_smoothing=1.519911082952933e-07;, score=0.580 total time=   0.0s\n",
            "[CV 4/5] END var_smoothing=1.519911082952933e-07;, score=0.587 total time=   0.0s\n",
            "[CV 5/5] END var_smoothing=1.519911082952933e-07;, score=0.660 total time=   0.0s\n",
            "[CV 1/5] END var_smoothing=1.232846739442066e-07;, score=0.780 total time=   0.0s\n",
            "[CV 2/5] END var_smoothing=1.232846739442066e-07;, score=0.640 total time=   0.0s\n",
            "[CV 3/5] END var_smoothing=1.232846739442066e-07;, score=0.573 total time=   0.0s\n",
            "[CV 4/5] END var_smoothing=1.232846739442066e-07;, score=0.587 total time=   0.0s\n",
            "[CV 5/5] END var_smoothing=1.232846739442066e-07;, score=0.653 total time=   0.0s\n",
            "[CV 1/5] END ...............var_smoothing=1e-07;, score=0.780 total time=   0.0s\n",
            "[CV 2/5] END ...............var_smoothing=1e-07;, score=0.640 total time=   0.0s\n",
            "[CV 3/5] END ...............var_smoothing=1e-07;, score=0.573 total time=   0.0s\n",
            "[CV 4/5] END ...............var_smoothing=1e-07;, score=0.587 total time=   0.0s\n",
            "[CV 5/5] END ...............var_smoothing=1e-07;, score=0.647 total time=   0.0s\n",
            "[CV 1/5] END var_smoothing=8.111308307896873e-08;, score=0.780 total time=   0.0s\n",
            "[CV 2/5] END var_smoothing=8.111308307896873e-08;, score=0.633 total time=   0.0s\n",
            "[CV 3/5] END var_smoothing=8.111308307896873e-08;, score=0.573 total time=   0.0s\n",
            "[CV 4/5] END var_smoothing=8.111308307896873e-08;, score=0.587 total time=   0.0s\n",
            "[CV 5/5] END var_smoothing=8.111308307896873e-08;, score=0.647 total time=   0.0s\n",
            "[CV 1/5] END var_smoothing=6.579332246575682e-08;, score=0.780 total time=   0.0s\n",
            "[CV 2/5] END var_smoothing=6.579332246575682e-08;, score=0.627 total time=   0.0s\n",
            "[CV 3/5] END var_smoothing=6.579332246575682e-08;, score=0.573 total time=   0.0s\n",
            "[CV 4/5] END var_smoothing=6.579332246575682e-08;, score=0.587 total time=   0.0s\n",
            "[CV 5/5] END var_smoothing=6.579332246575682e-08;, score=0.647 total time=   0.0s\n",
            "[CV 1/5] END var_smoothing=5.336699231206302e-08;, score=0.773 total time=   0.0s\n",
            "[CV 2/5] END var_smoothing=5.336699231206302e-08;, score=0.620 total time=   0.0s\n",
            "[CV 3/5] END var_smoothing=5.336699231206302e-08;, score=0.573 total time=   0.0s\n",
            "[CV 4/5] END var_smoothing=5.336699231206302e-08;, score=0.587 total time=   0.0s\n",
            "[CV 5/5] END var_smoothing=5.336699231206302e-08;, score=0.647 total time=   0.0s\n",
            "[CV 1/5] END var_smoothing=4.3287612810830526e-08;, score=0.773 total time=   0.0s\n",
            "[CV 2/5] END var_smoothing=4.3287612810830526e-08;, score=0.620 total time=   0.0s\n",
            "[CV 3/5] END var_smoothing=4.3287612810830526e-08;, score=0.573 total time=   0.0s\n",
            "[CV 4/5] END var_smoothing=4.3287612810830526e-08;, score=0.587 total time=   0.0s\n",
            "[CV 5/5] END var_smoothing=4.3287612810830526e-08;, score=0.647 total time=   0.0s\n",
            "[CV 1/5] END var_smoothing=3.5111917342151277e-08;, score=0.773 total time=   0.0s\n",
            "[CV 2/5] END var_smoothing=3.5111917342151277e-08;, score=0.613 total time=   0.0s\n",
            "[CV 3/5] END var_smoothing=3.5111917342151277e-08;, score=0.573 total time=   0.0s\n",
            "[CV 4/5] END var_smoothing=3.5111917342151277e-08;, score=0.587 total time=   0.0s\n",
            "[CV 5/5] END var_smoothing=3.5111917342151277e-08;, score=0.647 total time=   0.0s\n",
            "[CV 1/5] END var_smoothing=2.848035868435799e-08;, score=0.773 total time=   0.0s\n",
            "[CV 2/5] END var_smoothing=2.848035868435799e-08;, score=0.607 total time=   0.0s\n",
            "[CV 3/5] END var_smoothing=2.848035868435799e-08;, score=0.573 total time=   0.0s\n",
            "[CV 4/5] END var_smoothing=2.848035868435799e-08;, score=0.573 total time=   0.0s\n",
            "[CV 5/5] END var_smoothing=2.848035868435799e-08;, score=0.647 total time=   0.0s\n",
            "[CV 1/5] END var_smoothing=2.310129700083158e-08;, score=0.773 total time=   0.0s\n",
            "[CV 2/5] END var_smoothing=2.310129700083158e-08;, score=0.600 total time=   0.0s\n",
            "[CV 3/5] END var_smoothing=2.310129700083158e-08;, score=0.573 total time=   0.0s\n",
            "[CV 4/5] END var_smoothing=2.310129700083158e-08;, score=0.573 total time=   0.0s\n",
            "[CV 5/5] END var_smoothing=2.310129700083158e-08;, score=0.647 total time=   0.0s\n",
            "[CV 1/5] END var_smoothing=1.873817422860383e-08;, score=0.773 total time=   0.0s\n",
            "[CV 2/5] END var_smoothing=1.873817422860383e-08;, score=0.593 total time=   0.0s\n",
            "[CV 3/5] END var_smoothing=1.873817422860383e-08;, score=0.573 total time=   0.0s\n",
            "[CV 4/5] END var_smoothing=1.873817422860383e-08;, score=0.567 total time=   0.0s\n",
            "[CV 5/5] END var_smoothing=1.873817422860383e-08;, score=0.647 total time=   0.0s\n",
            "[CV 1/5] END var_smoothing=1.519911082952933e-08;, score=0.773 total time=   0.0s\n",
            "[CV 2/5] END var_smoothing=1.519911082952933e-08;, score=0.593 total time=   0.0s\n",
            "[CV 3/5] END var_smoothing=1.519911082952933e-08;, score=0.573 total time=   0.0s\n",
            "[CV 4/5] END var_smoothing=1.519911082952933e-08;, score=0.567 total time=   0.0s\n",
            "[CV 5/5] END var_smoothing=1.519911082952933e-08;, score=0.647 total time=   0.0s\n",
            "[CV 1/5] END var_smoothing=1.232846739442066e-08;, score=0.773 total time=   0.0s\n",
            "[CV 2/5] END var_smoothing=1.232846739442066e-08;, score=0.593 total time=   0.0s\n",
            "[CV 3/5] END var_smoothing=1.232846739442066e-08;, score=0.573 total time=   0.0s\n",
            "[CV 4/5] END var_smoothing=1.232846739442066e-08;, score=0.567 total time=   0.0s\n",
            "[CV 5/5] END var_smoothing=1.232846739442066e-08;, score=0.647 total time=   0.0s\n",
            "[CV 1/5] END ...............var_smoothing=1e-08;, score=0.773 total time=   0.0s\n",
            "[CV 2/5] END ...............var_smoothing=1e-08;, score=0.593 total time=   0.0s\n",
            "[CV 3/5] END ...............var_smoothing=1e-08;, score=0.573 total time=   0.0s\n",
            "[CV 4/5] END ...............var_smoothing=1e-08;, score=0.567 total time=   0.0s\n",
            "[CV 5/5] END ...............var_smoothing=1e-08;, score=0.647 total time=   0.0s\n",
            "[CV 1/5] END var_smoothing=8.111308307896856e-09;, score=0.773 total time=   0.0s\n",
            "[CV 2/5] END var_smoothing=8.111308307896856e-09;, score=0.593 total time=   0.0s\n",
            "[CV 3/5] END var_smoothing=8.111308307896856e-09;, score=0.573 total time=   0.0s\n",
            "[CV 4/5] END var_smoothing=8.111308307896856e-09;, score=0.567 total time=   0.0s\n",
            "[CV 5/5] END var_smoothing=8.111308307896856e-09;, score=0.640 total time=   0.0s\n",
            "[CV 1/5] END var_smoothing=6.579332246575682e-09;, score=0.773 total time=   0.0s\n",
            "[CV 2/5] END var_smoothing=6.579332246575682e-09;, score=0.593 total time=   0.0s\n",
            "[CV 3/5] END var_smoothing=6.579332246575682e-09;, score=0.573 total time=   0.0s\n",
            "[CV 4/5] END var_smoothing=6.579332246575682e-09;, score=0.567 total time=   0.0s\n",
            "[CV 5/5] END var_smoothing=6.579332246575682e-09;, score=0.633 total time=   0.0s\n",
            "[CV 1/5] END var_smoothing=5.336699231206302e-09;, score=0.767 total time=   0.0s\n",
            "[CV 2/5] END var_smoothing=5.336699231206302e-09;, score=0.593 total time=   0.0s\n",
            "[CV 3/5] END var_smoothing=5.336699231206302e-09;, score=0.573 total time=   0.0s\n",
            "[CV 4/5] END var_smoothing=5.336699231206302e-09;, score=0.567 total time=   0.0s\n",
            "[CV 5/5] END var_smoothing=5.336699231206302e-09;, score=0.627 total time=   0.0s\n",
            "[CV 1/5] END var_smoothing=4.328761281083061e-09;, score=0.767 total time=   0.0s\n",
            "[CV 2/5] END var_smoothing=4.328761281083061e-09;, score=0.593 total time=   0.0s\n",
            "[CV 3/5] END var_smoothing=4.328761281083061e-09;, score=0.573 total time=   0.0s\n",
            "[CV 4/5] END var_smoothing=4.328761281083061e-09;, score=0.567 total time=   0.0s\n",
            "[CV 5/5] END var_smoothing=4.328761281083061e-09;, score=0.627 total time=   0.0s\n",
            "[CV 1/5] END var_smoothing=3.5111917342151273e-09;, score=0.767 total time=   0.0s\n",
            "[CV 2/5] END var_smoothing=3.5111917342151273e-09;, score=0.593 total time=   0.0s\n",
            "[CV 3/5] END var_smoothing=3.5111917342151273e-09;, score=0.573 total time=   0.0s\n",
            "[CV 4/5] END var_smoothing=3.5111917342151273e-09;, score=0.567 total time=   0.0s\n",
            "[CV 5/5] END var_smoothing=3.5111917342151273e-09;, score=0.613 total time=   0.0s\n",
            "[CV 1/5] END var_smoothing=2.848035868435805e-09;, score=0.767 total time=   0.0s\n",
            "[CV 2/5] END var_smoothing=2.848035868435805e-09;, score=0.587 total time=   0.0s\n",
            "[CV 3/5] END var_smoothing=2.848035868435805e-09;, score=0.573 total time=   0.0s\n",
            "[CV 4/5] END var_smoothing=2.848035868435805e-09;, score=0.567 total time=   0.0s\n",
            "[CV 5/5] END var_smoothing=2.848035868435805e-09;, score=0.613 total time=   0.0s\n",
            "[CV 1/5] END var_smoothing=2.310129700083158e-09;, score=0.767 total time=   0.0s\n",
            "[CV 2/5] END var_smoothing=2.310129700083158e-09;, score=0.587 total time=   0.0s\n",
            "[CV 3/5] END var_smoothing=2.310129700083158e-09;, score=0.573 total time=   0.0s\n",
            "[CV 4/5] END var_smoothing=2.310129700083158e-09;, score=0.567 total time=   0.0s\n",
            "[CV 5/5] END var_smoothing=2.310129700083158e-09;, score=0.613 total time=   0.0s\n",
            "[CV 1/5] END var_smoothing=1.873817422860387e-09;, score=0.767 total time=   0.0s\n",
            "[CV 2/5] END var_smoothing=1.873817422860387e-09;, score=0.587 total time=   0.0s\n",
            "[CV 3/5] END var_smoothing=1.873817422860387e-09;, score=0.573 total time=   0.0s\n",
            "[CV 4/5] END var_smoothing=1.873817422860387e-09;, score=0.567 total time=   0.0s\n",
            "[CV 5/5] END var_smoothing=1.873817422860387e-09;, score=0.613 total time=   0.0s\n",
            "[CV 1/5] END var_smoothing=1.519911082952933e-09;, score=0.767 total time=   0.0s\n",
            "[CV 2/5] END var_smoothing=1.519911082952933e-09;, score=0.587 total time=   0.0s\n",
            "[CV 3/5] END var_smoothing=1.519911082952933e-09;, score=0.573 total time=   0.0s\n",
            "[CV 4/5] END var_smoothing=1.519911082952933e-09;, score=0.567 total time=   0.0s\n",
            "[CV 5/5] END var_smoothing=1.519911082952933e-09;, score=0.607 total time=   0.0s\n",
            "[CV 1/5] END var_smoothing=1.2328467394420635e-09;, score=0.767 total time=   0.0s\n",
            "[CV 2/5] END var_smoothing=1.2328467394420635e-09;, score=0.587 total time=   0.0s\n",
            "[CV 3/5] END var_smoothing=1.2328467394420635e-09;, score=0.573 total time=   0.0s\n",
            "[CV 4/5] END var_smoothing=1.2328467394420635e-09;, score=0.567 total time=   0.0s\n",
            "[CV 5/5] END var_smoothing=1.2328467394420635e-09;, score=0.607 total time=   0.0s\n",
            "[CV 1/5] END ...............var_smoothing=1e-09;, score=0.767 total time=   0.0s\n",
            "[CV 2/5] END ...............var_smoothing=1e-09;, score=0.580 total time=   0.0s\n",
            "[CV 3/5] END ...............var_smoothing=1e-09;, score=0.573 total time=   0.0s\n",
            "[CV 4/5] END ...............var_smoothing=1e-09;, score=0.567 total time=   0.0s\n",
            "[CV 5/5] END ...............var_smoothing=1e-09;, score=0.607 total time=   0.0s\n",
            "{'var_smoothing': 0.02848035868435802}\n"
          ]
        }
      ]
    },
    {
      "cell_type": "code",
      "source": [
        "from sklearn.naive_bayes import GaussianNB\n",
        "from sklearn.metrics import accuracy_score, classification_report, confusion_matrix\n",
        "\n",
        "# Inisialisasi model Naive Bayes\n",
        "nb_model = GaussianNB(var_smoothing = 0.03511191734215131)\n",
        "\n",
        "# Latih model dengan data training\n",
        "nb_model.fit(X_train, y_train)\n",
        "\n",
        "# Prediksi data testing\n",
        "y_pred_nb = nb_model.predict(X_test)\n",
        "\n",
        "# Evaluasi model\n",
        "print(\"Naive Bayes Accuracy:\", accuracy_score(y_test, y_pred_nb))\n",
        "print(\"Naive Bayes Confusion Matrix:\\n\", confusion_matrix(y_test, y_pred_nb))\n",
        "print(\"Naive Bayes Classification Report:\\n\", classification_report(y_test, y_pred_nb))"
      ],
      "metadata": {
        "id": "x3p1hkleeKXu",
        "colab": {
          "base_uri": "https://localhost:8080/"
        },
        "outputId": "5996e87f-6d38-4d20-c168-b0110181fb6c"
      },
      "execution_count": null,
      "outputs": [
        {
          "output_type": "stream",
          "name": "stdout",
          "text": [
            "Naive Bayes Accuracy: 0.848\n",
            "Naive Bayes Confusion Matrix:\n",
            " [[45  0  1  0  0]\n",
            " [ 4 48  6  0  0]\n",
            " [ 1  4 42  0  0]\n",
            " [ 7  0  0 37  0]\n",
            " [ 1  9  1  4 40]]\n",
            "Naive Bayes Classification Report:\n",
            "               precision    recall  f1-score   support\n",
            "\n",
            "           0       0.78      0.98      0.87        46\n",
            "           1       0.79      0.83      0.81        58\n",
            "           2       0.84      0.89      0.87        47\n",
            "           3       0.90      0.84      0.87        44\n",
            "           4       1.00      0.73      0.84        55\n",
            "\n",
            "    accuracy                           0.85       250\n",
            "   macro avg       0.86      0.85      0.85       250\n",
            "weighted avg       0.86      0.85      0.85       250\n",
            "\n"
          ]
        }
      ]
    },
    {
      "cell_type": "code",
      "source": [
        "import matplotlib.pyplot as plt\n",
        "import seaborn as sns\n",
        "from sklearn.metrics import confusion_matrix\n",
        "\n",
        "# --- Visualisasi Confusion Matrix ---\n",
        "# Hitung confusion matrix\n",
        "cm_nb = confusion_matrix(y_test, y_pred_nb)\n",
        "\n",
        "# Visualisasikan confusion matrix menggunakan seaborn heatmap\n",
        "plt.figure(figsize=(8, 6))\n",
        "sns.heatmap(cm_nb, annot=True, fmt=\"d\", cmap=\"Blues\",\n",
        "            xticklabels=salary_scale_labels,\n",
        "            yticklabels=salary_scale_labels)\n",
        "plt.title(\"Confusion Matrix - Naive Bayes\")\n",
        "plt.xlabel(\"Predicted Salary Scale\")\n",
        "plt.ylabel(\"Actual Salary Scale\")\n",
        "plt.xticks(rotation=45, ha='right')\n",
        "plt.tight_layout()\n",
        "plt.show()"
      ],
      "metadata": {
        "colab": {
          "base_uri": "https://localhost:8080/",
          "height": 607
        },
        "id": "wLwFQE8CPyu-",
        "outputId": "c275ad4b-7981-4fa6-ec19-a6e6eaafc50e"
      },
      "execution_count": null,
      "outputs": [
        {
          "output_type": "display_data",
          "data": {
            "text/plain": [
              "<Figure size 800x600 with 2 Axes>"
            ],
            "image/png": "[encoded data removed]"
          },
          "metadata": {}
        }
      ]
    }
  ],
  "metadata": {
    "colab": {
      "provenance": []
    },
    "kernelspec": {
      "display_name": "Python 3",
      "name": "python3"
    },
    "language_info": {
      "name": "python"
    }
  },
  "nbformat": 4,
  "nbformat_minor": 0
}